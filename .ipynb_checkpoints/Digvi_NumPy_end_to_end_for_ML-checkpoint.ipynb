{
 "cells": [
  {
   "cell_type": "markdown",
   "id": "bc43ad86",
   "metadata": {},
   "source": [
    "## Numerical Python End to End in Detail\n",
    "\n",
    "### Numpy:\n",
    "\n",
    "Numpy- is a **Numerical Python**\n",
    "\n",
    "It is developed by **Travis Oliphant in 2005**\n",
    "\n",
    "Numpy has functions to work on linear algebra, fourier transform, and matrices\n",
    "\n",
    "Its basically used to work with array, It can work with multidimentional Arrays\n",
    "\n",
    "\n",
    "### Why:\n",
    "\n",
    "Numpy is built using **python,** and most of the part which requires fatser execution is **developed using c or c++**,So it is very fast in execution.\n",
    "\n",
    "Numpy arrays are called as **ndarray**\n",
    "\n",
    "Numpy has 50x speed as compared to python list\n",
    "\n",
    "Numpy provides lots of functions which can be performed on large data\n",
    "\n",
    "Numpy gives faster response as compared to list as it **stores numpy arrays at one continuous location**\n",
    "\n",
    "Numpy codes are available at: https://github.com/numpy/numpy"
   ]
  },
  {
   "cell_type": "markdown",
   "id": "f2b87a5a",
   "metadata": {},
   "source": [
    "### Installation of Numpy"
   ]
  },
  {
   "cell_type": "raw",
   "id": "ea068663",
   "metadata": {},
   "source": [
    "# Got to terminal/jupyter notebook (!)\n",
    "\n",
    "# ! pip install numpy\n",
    "# ! pip install --upgrade pip\n",
    "\n",
    "you can use other tools like spyder or anaconda which comes with its installation"
   ]
  },
  {
   "cell_type": "code",
   "execution_count": 10,
   "id": "3194679f",
   "metadata": {},
   "outputs": [],
   "source": [
    "import numpy as np"
   ]
  },
  {
   "cell_type": "code",
   "execution_count": 12,
   "id": "1f988523",
   "metadata": {},
   "outputs": [
    {
     "name": "stdout",
     "output_type": "stream",
     "text": [
      "Numpy Version is: 1.24.2\n"
     ]
    }
   ],
   "source": [
    "print(\"Numpy Version is:\",np.__version__)"
   ]
  },
  {
   "cell_type": "code",
   "execution_count": 13,
   "id": "f30665e2",
   "metadata": {},
   "outputs": [
    {
     "name": "stdout",
     "output_type": "stream",
     "text": [
      "[1 2 3 4 5 6 7 8 9]\n",
      "<class 'numpy.ndarray'>\n",
      "****************************************************************************************************\n",
      "[10 20 30 40]\n",
      "<class 'numpy.ndarray'>\n"
     ]
    }
   ],
   "source": [
    "# Create a numpy array using list\n",
    "\n",
    "arr=np.array([1,2,3,4,5,6,7,8,9])\n",
    "print(arr)\n",
    "print(type(arr))\n",
    "\n",
    "print('*'*100)\n",
    "\n",
    "lst = [10,20,30,40]\n",
    "ar = np.array(lst)\n",
    "print(ar)\n",
    "print(type(ar))"
   ]
  },
  {
   "cell_type": "code",
   "execution_count": 14,
   "id": "022fa507",
   "metadata": {},
   "outputs": [
    {
     "name": "stdout",
     "output_type": "stream",
     "text": [
      "[1 2 3 4 5 6 7 8 9]\n",
      "Number of dimensions: 1\n"
     ]
    }
   ],
   "source": [
    "# How to access the element\n",
    "# its 1-D array\n",
    "arr = np.array([1,2,3,4,5,6,7,8,9])\n",
    "print(arr)\n",
    "\n",
    "# lets check the dimentions of the array\n",
    "\n",
    "print('Number of dimensions:',arr.ndim)\n"
   ]
  },
  {
   "cell_type": "raw",
   "id": "26b0c488",
   "metadata": {},
   "source": [
    "ndarray:\n",
    "        The array object in numpy is called ndarray"
   ]
  },
  {
   "cell_type": "code",
   "execution_count": 15,
   "id": "81d43aab",
   "metadata": {},
   "outputs": [
    {
     "name": "stdout",
     "output_type": "stream",
     "text": [
      "[1 2 3 4 5 6]\n",
      "<class 'numpy.ndarray'>\n"
     ]
    }
   ],
   "source": [
    "# 2. Create numpy array using tuple\n",
    "\n",
    "tup=(1,2,3,4,5,6)\n",
    "ar = np.array(tup)\n",
    "print(ar)\n",
    "print(type(ar))"
   ]
  },
  {
   "cell_type": "code",
   "execution_count": 18,
   "id": "8ea4b581",
   "metadata": {},
   "outputs": [],
   "source": [
    "# Different Dimentional Arrays:"
   ]
  },
  {
   "cell_type": "code",
   "execution_count": 17,
   "id": "9898eb83",
   "metadata": {},
   "outputs": [
    {
     "name": "stdout",
     "output_type": "stream",
     "text": [
      "9\n",
      "<class 'numpy.ndarray'>\n",
      "Dimensons of array: 0\n"
     ]
    }
   ],
   "source": [
    "# 1. 0-D array\n",
    "\n",
    "arr=np.array(9)\n",
    "print(arr)\n",
    "print(type(arr))\n",
    "print(\"Dimensons of array:\",arr.ndim)"
   ]
  },
  {
   "cell_type": "code",
   "execution_count": 21,
   "id": "b7bb9c13",
   "metadata": {},
   "outputs": [
    {
     "name": "stdout",
     "output_type": "stream",
     "text": [
      "[ 1  2  3  4 45]\n",
      "<class 'numpy.ndarray'>\n",
      "Dimensons of array: 1\n",
      "Element present at 4h index: 45\n"
     ]
    }
   ],
   "source": [
    "# 2. 1-D array\n",
    "\n",
    "arr=np.array([1,2,3,4,45])\n",
    "print(arr)\n",
    "print(type(arr))\n",
    "print(\"Dimensons of array:\",arr.ndim)\n",
    "\n",
    "# Access elemnts an 1-D array\n",
    "print('Element present at 4h index:',arr[4])"
   ]
  },
  {
   "cell_type": "code",
   "execution_count": 25,
   "id": "b50195d7",
   "metadata": {},
   "outputs": [
    {
     "name": "stdout",
     "output_type": "stream",
     "text": [
      "[[1 2 3]\n",
      " [4 5 6]]\n",
      "<class 'numpy.ndarray'>\n",
      "Dimensons of array: 2\n",
      "Element present at 1st index in axis 0: 2\n"
     ]
    }
   ],
   "source": [
    "# 3. 2-D array\n",
    "# Array having 1-D array as input element are called as 2-D array\n",
    "\n",
    "arr=np.array([[1,2,3],[4,5,6]])\n",
    "print(arr)\n",
    "print(type(arr))\n",
    "print(\"Dimensons of array:\",arr.ndim)\n",
    "\n",
    "# Access elemnts an 2-D array\n",
    "print('Element present at 1st index in axis 0:',arr[0,1]) # arr[0][1]"
   ]
  },
  {
   "cell_type": "code",
   "execution_count": 26,
   "id": "b433956f",
   "metadata": {},
   "outputs": [
    {
     "name": "stdout",
     "output_type": "stream",
     "text": [
      "[[1 2 3 4]\n",
      " [4 5 6 7]\n",
      " [4 5 6 7]\n",
      " [4 5 6 7]]\n",
      "Dimensions:  2\n"
     ]
    }
   ],
   "source": [
    "ar = [[1,2,3,4],[4,5,6,7],[4,5,6,7],[4,5,6,7]]\n",
    "arr = np.array(ar)\n",
    "print(arr)\n",
    "print(\"Dimensions: \",arr.ndim)"
   ]
  },
  {
   "cell_type": "code",
   "execution_count": 28,
   "id": "49363d94",
   "metadata": {},
   "outputs": [
    {
     "name": "stdout",
     "output_type": "stream",
     "text": [
      "[[1 2 3 4]\n",
      " [4 5 6 7]\n",
      " [4 5 6 7]\n",
      " [4 5 6 7]]\n",
      "Dimensions:  2\n",
      "****************************************************************************************************\n",
      "arr[0][3] : 4\n",
      "arr[0] : [1 2 3 4]\n",
      "arr[0][2] : 3\n",
      "arr[1] : [4 5 6 7]\n",
      "arr[3,1] : 5\n"
     ]
    }
   ],
   "source": [
    "# Access the elements of 2-D array\n",
    "\n",
    "print(arr)\n",
    "# dimensions\n",
    "print(\"Dimensions: \",arr.ndim)\n",
    "print('*'*100)\n",
    "\n",
    "#one way is to write\n",
    "print('arr[0][3] :',arr[0][3])\n",
    "print('arr[0] :',arr[0])\n",
    "print('arr[0][2] :',arr[0][2])\n",
    "\n",
    "# another way is like\n",
    "print('arr[1] :',arr[1])\n",
    "print('arr[3,1] :',arr[3][1])"
   ]
  },
  {
   "cell_type": "code",
   "execution_count": 30,
   "id": "3ef94b23",
   "metadata": {},
   "outputs": [
    {
     "name": "stdout",
     "output_type": "stream",
     "text": [
      "[[[1, 2, 3], [4, 5, 6]], [[10, 20, 30], [40, 50, 60]]]\n",
      "<class 'list'>\n",
      "****************************************************************************************************\n",
      "[[[ 1  2  3]\n",
      "  [ 4  5  6]]\n",
      "\n",
      " [[10 20 30]\n",
      "  [40 50 60]]]\n",
      "<class 'numpy.ndarray'>\n",
      "****************************************************************************************************\n",
      "Dimension of array : 3\n"
     ]
    }
   ],
   "source": [
    "# 4. 3-D Array\n",
    "# array that has 2-D arrays (matrices) as its elemets is called 3D array\n",
    "\n",
    "ar = [[[1,2,3], [4,5,6]], [[10,20,30], [40,50,60]]]\n",
    "print(ar)\n",
    "print(type(ar))\n",
    "print('*'*100)\n",
    "\n",
    "arr=np.array(ar)\n",
    "print(arr)\n",
    "print(type(arr))\n",
    "print('*'*100)\n",
    "\n",
    "print('Dimension of array :',arr.ndim)"
   ]
  },
  {
   "cell_type": "code",
   "execution_count": 33,
   "id": "70749427",
   "metadata": {},
   "outputs": [
    {
     "name": "stdout",
     "output_type": "stream",
     "text": [
      "[[[ 1  2  3]\n",
      "  [ 4  5  6]]\n",
      "\n",
      " [[10 20 30]\n",
      "  [40 50 60]]]\n",
      "<class 'numpy.ndarray'>\n",
      "****************************************************************************************************\n",
      "One way is:\n",
      "arr[1] : [[10 20 30]\n",
      " [40 50 60]]\n",
      "arr[0][0] : [1 2 3]\n",
      "arr[0][0][2] : 3\n",
      "****************************************************************************************************\n",
      "Another way is:\n",
      "arr[1] : [[10 20 30]\n",
      " [40 50 60]]\n",
      "arr[0,0] : [1 2 3]\n",
      "arr[0,0,2] : 3\n"
     ]
    }
   ],
   "source": [
    "# access the elements of the 3-D array\n",
    "\n",
    "print(arr)\n",
    "print(type(arr))\n",
    "print('*'*100)\n",
    "\n",
    "# One way is \n",
    "print('One way is:')\n",
    "print('arr[1] :',arr[1])\n",
    "print('arr[0][0] :',arr[0][0])\n",
    "print('arr[0][0][2] :',arr[0][0][2])\n",
    "\n",
    "print('*'*100)\n",
    "\n",
    "# Another way\n",
    "print('Another way is:')\n",
    "print('arr[1] :',arr[1])\n",
    "print('arr[0,0] :',arr[0,0])\n",
    "print('arr[0,0,2] :',arr[0,0,2])"
   ]
  },
  {
   "cell_type": "markdown",
   "id": "61a21a95",
   "metadata": {},
   "source": [
    "###### # create an n dimensional array"
   ]
  },
  {
   "cell_type": "code",
   "execution_count": 36,
   "id": "bce1a8bf",
   "metadata": {},
   "outputs": [
    {
     "name": "stdout",
     "output_type": "stream",
     "text": [
      "[[[[[1 2 3 4]]]]]\n",
      "number of dimensions : 5\n"
     ]
    }
   ],
   "source": [
    "# create an n dimensional array\n",
    "arr = np.array([1, 2, 3, 4], ndmin=5)\n",
    "\n",
    "print(arr)\n",
    "print('number of dimensions :', arr.ndim) "
   ]
  },
  {
   "cell_type": "markdown",
   "id": "d0f64aea",
   "metadata": {},
   "source": [
    "### Array Slicing"
   ]
  },
  {
   "cell_type": "code",
   "execution_count": 38,
   "id": "c53c8fa7",
   "metadata": {},
   "outputs": [
    {
     "name": "stdout",
     "output_type": "stream",
     "text": [
      "1\n",
      "2\n",
      "3\n",
      "4\n"
     ]
    }
   ],
   "source": [
    "print(arr[0][0][0][0][0])\n",
    "print(arr[0][0][0][0][1])\n",
    "print(arr[0][0][0][0][2])\n",
    "print(arr[0][0][0][0][3])"
   ]
  },
  {
   "cell_type": "code",
   "execution_count": 39,
   "id": "f88723ae",
   "metadata": {},
   "outputs": [
    {
     "name": "stdout",
     "output_type": "stream",
     "text": [
      "[1 2 3 4 5 6 7 8 9]\n",
      "Length:  9\n",
      "[6 7 8 9]\n"
     ]
    }
   ],
   "source": [
    "arr = np.array([1,2,3,4,5,6,7,8,9])\n",
    "print(arr)\n",
    "\n",
    "# Slice\n",
    "print(\"Length: \",len(arr))\n",
    "print(arr[5:9])\n",
    "\n",
    "# [start:end], start included, end excluded"
   ]
  },
  {
   "cell_type": "code",
   "execution_count": 40,
   "id": "0c157ea6",
   "metadata": {},
   "outputs": [
    {
     "name": "stdout",
     "output_type": "stream",
     "text": [
      "[1 2 3 4 5]\n"
     ]
    }
   ],
   "source": [
    "print(arr[0:5])"
   ]
  },
  {
   "cell_type": "markdown",
   "id": "b35be383",
   "metadata": {},
   "source": [
    "###### Negative Indices\n",
    "\n",
    "    Negative indices always start from last element of n-d \n",
    "    array i.e. -1st index is last element of ndarray."
   ]
  },
  {
   "cell_type": "code",
   "execution_count": 41,
   "id": "70418b16",
   "metadata": {},
   "outputs": [
    {
     "name": "stdout",
     "output_type": "stream",
     "text": [
      "[1 2 3 4 5 6 7 8 9]\n"
     ]
    }
   ],
   "source": [
    "print(arr)"
   ]
  },
  {
   "cell_type": "markdown",
   "id": "8cc3c7c4",
   "metadata": {},
   "source": [
    "[-9,-8,-7,-6,-5,-4,-3,-2,-1]"
   ]
  },
  {
   "cell_type": "code",
   "execution_count": 43,
   "id": "fabdbcf4",
   "metadata": {},
   "outputs": [
    {
     "name": "stdout",
     "output_type": "stream",
     "text": [
      "9\n",
      "5\n",
      "1\n"
     ]
    }
   ],
   "source": [
    "print(arr[-1])\n",
    "print(arr[-5])\n",
    "print(arr[-9])"
   ]
  },
  {
   "cell_type": "code",
   "execution_count": 47,
   "id": "09eafd54",
   "metadata": {},
   "outputs": [
    {
     "name": "stdout",
     "output_type": "stream",
     "text": [
      "[1 2 3 4]\n"
     ]
    }
   ],
   "source": [
    "print(arr[-9:-5])"
   ]
  },
  {
   "cell_type": "code",
   "execution_count": 48,
   "id": "9921dd70",
   "metadata": {},
   "outputs": [
    {
     "name": "stdout",
     "output_type": "stream",
     "text": [
      "[1 2 3 4 5 6 7 8 9]\n",
      "[1 3 5 7 9]\n"
     ]
    }
   ],
   "source": [
    "# Step value in slicing a Numpy array\n",
    "# here step is 2\n",
    "print(arr)\n",
    "print(arr[0:9:2])"
   ]
  },
  {
   "cell_type": "code",
   "execution_count": 49,
   "id": "731183d1",
   "metadata": {},
   "outputs": [
    {
     "name": "stdout",
     "output_type": "stream",
     "text": [
      "[1 3 5 7 9]\n",
      "[1 3 5]\n"
     ]
    }
   ],
   "source": [
    "print(arr[::2])  # ::2 >> 0 to 9 index by step index 2\n",
    "\n",
    "print(arr[0:6:2]) # 0:6:2 >> 0 to 6 index by step value 2"
   ]
  },
  {
   "cell_type": "markdown",
   "id": "62c8da88",
   "metadata": {},
   "source": [
    "###### Slicing of 2D Array"
   ]
  },
  {
   "cell_type": "code",
   "execution_count": 57,
   "id": "fbe983f2",
   "metadata": {},
   "outputs": [
    {
     "name": "stdout",
     "output_type": "stream",
     "text": [
      "[[ 1  2  3  4  5]\n",
      " [ 6  7  8  9 10]]\n",
      "\n",
      "\n",
      "8\n",
      "[7 8 9]\n",
      "[2 3 4]\n"
     ]
    }
   ],
   "source": [
    "arr = np.array([[1,2,3,4,5], [6,7,8,9,10]])\n",
    "\n",
    "print(arr)\n",
    "print('\\n')\n",
    "print(arr[1,2])\n",
    "\n",
    "print(arr[1,1:4]) # arr\n",
    "\n",
    "print(arr[0,1:4])"
   ]
  },
  {
   "cell_type": "code",
   "execution_count": 59,
   "id": "10cf4b8b",
   "metadata": {},
   "outputs": [
    {
     "name": "stdout",
     "output_type": "stream",
     "text": [
      "[[ 1  2  3  4  5]\n",
      " [ 6  7  8  9 10]]\n"
     ]
    }
   ],
   "source": [
    "print(arr)"
   ]
  },
  {
   "cell_type": "code",
   "execution_count": 60,
   "id": "92d2c31e",
   "metadata": {},
   "outputs": [
    {
     "name": "stdout",
     "output_type": "stream",
     "text": [
      "[[1 2 3]]\n"
     ]
    }
   ],
   "source": [
    "print(arr[0:1,0:3]) # arr[location index from to,element index from to ]"
   ]
  },
  {
   "cell_type": "code",
   "execution_count": 61,
   "id": "00ab968d",
   "metadata": {},
   "outputs": [
    {
     "name": "stdout",
     "output_type": "stream",
     "text": [
      "[[1 2 3]\n",
      " [6 7 8]]\n"
     ]
    }
   ],
   "source": [
    "print(arr[0:2,0:3]) # arr[location index from to, element index from to ]"
   ]
  },
  {
   "cell_type": "code",
   "execution_count": 62,
   "id": "cbe494f3",
   "metadata": {},
   "outputs": [
    {
     "name": "stdout",
     "output_type": "stream",
     "text": [
      "[3 8]\n"
     ]
    }
   ],
   "source": [
    "print(arr[0:2,2]) "
   ]
  },
  {
   "cell_type": "code",
   "execution_count": 63,
   "id": "51afb937",
   "metadata": {},
   "outputs": [
    {
     "name": "stdout",
     "output_type": "stream",
     "text": [
      "[[ 1  2  3  4  5]\n",
      " [10 20 30 40 50]\n",
      " [11 22 33 44 55]]\n",
      "15 (3, 5)\n"
     ]
    }
   ],
   "source": [
    "arr = np.array([[1,2,3,4,5],[10,20,30,40,50],[11,22,33,44,55]])\n",
    "print(arr)\n",
    "print(arr.size, arr.shape)"
   ]
  },
  {
   "cell_type": "code",
   "execution_count": 67,
   "id": "7f1a97ee",
   "metadata": {},
   "outputs": [
    {
     "name": "stdout",
     "output_type": "stream",
     "text": [
      "[[ 2  3]\n",
      " [20 30]]\n",
      "\n",
      "\n",
      "[[20 30 40]\n",
      " [22 33 44]]\n"
     ]
    }
   ],
   "source": [
    "# 2, 3\n",
    "# 20,30\n",
    "\n",
    "print(arr[0:2,1:3]) \n",
    "\n",
    "print('\\n')\n",
    "\n",
    "# 20 30 40\n",
    "# 22 33 44\n",
    "print(arr[1:3,1:4])"
   ]
  },
  {
   "cell_type": "markdown",
   "id": "b8563dae",
   "metadata": {},
   "source": [
    "#### Slicing of 3D Array"
   ]
  },
  {
   "cell_type": "code",
   "execution_count": 69,
   "id": "c6e904e2",
   "metadata": {},
   "outputs": [
    {
     "name": "stdout",
     "output_type": "stream",
     "text": [
      "[[[ 1  2  3]\n",
      "  [ 5  6  7]]\n",
      "\n",
      " [[11 22 33]\n",
      "  [55 66 77]]]\n",
      "3\n"
     ]
    }
   ],
   "source": [
    "arr=np.array([[[1,2,3],[5,6,7]],[[11,22,33],[55,66,77]]])\n",
    "print(arr)\n",
    "print(arr.ndim)"
   ]
  },
  {
   "cell_type": "code",
   "execution_count": 77,
   "id": "723ee1d0",
   "metadata": {},
   "outputs": [
    {
     "data": {
      "text/plain": [
       "array([6, 7])"
      ]
     },
     "execution_count": 77,
     "metadata": {},
     "output_type": "execute_result"
    }
   ],
   "source": [
    "arr[0][1][1:3]"
   ]
  },
  {
   "cell_type": "code",
   "execution_count": 78,
   "id": "c76e69dd",
   "metadata": {},
   "outputs": [
    {
     "data": {
      "text/plain": [
       "array([66, 77])"
      ]
     },
     "execution_count": 78,
     "metadata": {},
     "output_type": "execute_result"
    }
   ],
   "source": [
    "arr[1][1][1:3]"
   ]
  },
  {
   "cell_type": "markdown",
   "id": "c588d20a",
   "metadata": {},
   "source": [
    "### Data Types in NumPy"
   ]
  },
  {
   "cell_type": "markdown",
   "id": "9c7b81f6",
   "metadata": {},
   "source": [
    "list of all data types in NumPy:\n",
    "    \n",
    "        i - integer\n",
    "        b - boolean\n",
    "        u - unsigned integer\n",
    "        f - float\n",
    "        c - complex float   \n",
    "        M - datetime\n",
    "        O - object\n",
    "        S - string\n",
    "        m - timedelta\n",
    "        U - unicode string\n",
    "        V - fixed chunk of memory for other type (void)"
   ]
  },
  {
   "cell_type": "code",
   "execution_count": 79,
   "id": "1a52d8b6",
   "metadata": {},
   "outputs": [],
   "source": [
    "import numpy as np"
   ]
  },
  {
   "cell_type": "code",
   "execution_count": 80,
   "id": "1774a866",
   "metadata": {},
   "outputs": [
    {
     "name": "stdout",
     "output_type": "stream",
     "text": [
      "int32\n"
     ]
    }
   ],
   "source": [
    "# dtype\n",
    "\n",
    "arr = np.array([1,2,3,4])\n",
    "print(arr.dtype)"
   ]
  },
  {
   "cell_type": "code",
   "execution_count": 81,
   "id": "e3ebc82c",
   "metadata": {},
   "outputs": [
    {
     "name": "stdout",
     "output_type": "stream",
     "text": [
      "<U6\n"
     ]
    }
   ],
   "source": [
    "arr=np.array(['apple','banana','cherry'])\n",
    "print(arr.dtype)"
   ]
  },
  {
   "cell_type": "code",
   "execution_count": 83,
   "id": "7c9fdfd2",
   "metadata": {},
   "outputs": [
    {
     "name": "stdout",
     "output_type": "stream",
     "text": [
      "[b'1' b'2' b'3' b'4']\n",
      "|S1\n"
     ]
    }
   ],
   "source": [
    "# creating arrays with a defined data type\n",
    "\n",
    "arr = np.array([1,2,3,4],dtype='S')\n",
    "print(arr)\n",
    "print(arr.dtype)"
   ]
  },
  {
   "cell_type": "code",
   "execution_count": 84,
   "id": "9e48716b",
   "metadata": {},
   "outputs": [
    {
     "name": "stdout",
     "output_type": "stream",
     "text": [
      "[1 2 3 4]\n",
      "int32\n"
     ]
    }
   ],
   "source": [
    "arr = np.array([1,2,3,4],dtype='i') # int\n",
    "print(arr)\n",
    "print(arr.dtype)"
   ]
  },
  {
   "cell_type": "code",
   "execution_count": 89,
   "id": "2f1c6311",
   "metadata": {},
   "outputs": [
    {
     "name": "stdout",
     "output_type": "stream",
     "text": [
      "[1. 2. 3. 4. 5. 6.]\n",
      "float32\n"
     ]
    }
   ],
   "source": [
    "arr = np.array([1,2,3,4,5,6],dtype='f')\n",
    "print(arr)\n",
    "print(arr.dtype)"
   ]
  },
  {
   "cell_type": "code",
   "execution_count": 88,
   "id": "f6a295c0",
   "metadata": {},
   "outputs": [
    {
     "name": "stdout",
     "output_type": "stream",
     "text": [
      "[1. 2. 3. 4. 5. 6.]\n",
      "float64\n"
     ]
    }
   ],
   "source": [
    "arr = np.array([1,2,3,4,5,6],dtype='float')\n",
    "print(arr)\n",
    "print(arr.dtype)"
   ]
  },
  {
   "cell_type": "code",
   "execution_count": 90,
   "id": "81f1b41a",
   "metadata": {},
   "outputs": [
    {
     "name": "stdout",
     "output_type": "stream",
     "text": [
      "[1 2 3 4]\n",
      "int32\n",
      "****************************************************************************************************\n",
      "[1 2 3 4]\n",
      "int32\n"
     ]
    }
   ],
   "source": [
    "# int with 4 bytes\n",
    "\n",
    "arr=np.array([1,2,3,4],dtype='i')\n",
    "print(arr)\n",
    "print(arr.dtype)\n",
    "\n",
    "print('*'*100)\n",
    "\n",
    "arr=np.array([1,2,3,4],dtype='i4')\n",
    "print(arr)\n",
    "print(arr.dtype)"
   ]
  },
  {
   "cell_type": "markdown",
   "id": "1b879d6d",
   "metadata": {},
   "source": [
    "in python we are not responsible for memory management PVM is responsible for that"
   ]
  },
  {
   "cell_type": "code",
   "execution_count": 92,
   "id": "b3a6df57",
   "metadata": {},
   "outputs": [],
   "source": [
    "# Errors\n",
    "\n",
    "# arr=np.array(['a','2','3'],dtype='i')\n",
    "# print(arr) # ValueError: invalid literal for int() with base 10: 'a'"
   ]
  },
  {
   "cell_type": "code",
   "execution_count": 93,
   "id": "00d9928b",
   "metadata": {},
   "outputs": [
    {
     "name": "stdout",
     "output_type": "stream",
     "text": [
      "[1 2 3]\n"
     ]
    }
   ],
   "source": [
    "arr=np.array(['1','2','3'],dtype='i')\n",
    "print(arr)"
   ]
  },
  {
   "cell_type": "markdown",
   "id": "f8cc36a6",
   "metadata": {},
   "source": [
    "### Data Type Conversion"
   ]
  },
  {
   "cell_type": "code",
   "execution_count": 105,
   "id": "eee54031",
   "metadata": {},
   "outputs": [
    {
     "name": "stdout",
     "output_type": "stream",
     "text": [
      "old array: [1.1 2.2 3.3 4.4]\n",
      "old array data type : float64\n",
      "****************************************************************************************************\n",
      "new array [1 2 3 4]\n",
      "new array data type : int32\n"
     ]
    }
   ],
   "source": [
    "# float to int\n",
    "\n",
    "arr = np.array([1.1, 2.2, 3.3, 4.4])\n",
    "print('old array:',arr)\n",
    "print('old array data type :',arr.dtype)\n",
    "print('*'*100)\n",
    "new_arr = arr.astype('i')\n",
    "print('new array',new_arr)\n",
    "print('new array data type :',new_arr.dtype)"
   ]
  },
  {
   "cell_type": "code",
   "execution_count": 106,
   "id": "621713e5",
   "metadata": {},
   "outputs": [
    {
     "name": "stdout",
     "output_type": "stream",
     "text": [
      "old array: [1 2 3 4 0]\n",
      "old array data type : int32\n",
      "****************************************************************************************************\n",
      "new array [ True  True  True  True False]\n",
      "new array data type : bool\n"
     ]
    }
   ],
   "source": [
    "# int to bool\n",
    "\n",
    "arr = np.array([1, 2, 3, 4, 0])\n",
    "print('old array:',arr)\n",
    "print('old array data type :',arr.dtype)\n",
    "print('*'*100)\n",
    "new_arr = arr.astype(bool)\n",
    "print('new array',new_arr)\n",
    "print('new array data type :',new_arr.dtype)"
   ]
  },
  {
   "cell_type": "markdown",
   "id": "475738af",
   "metadata": {},
   "source": [
    "### Difference Between Copy and View\n",
    "\n",
    "copy : \n",
    "\n",
    "    A copy is a new array that has the same data as the original array. Changes made to the copy do not affect the original array, and vice versa\n",
    "    \n",
    "    \n",
    "view :\n",
    "\n",
    "    A view is a new array that refers to the same data as the original array. Changes made to the view affect the original array, and vice versa."
   ]
  },
  {
   "cell_type": "code",
   "execution_count": 107,
   "id": "21687ded",
   "metadata": {},
   "outputs": [
    {
     "name": "stdout",
     "output_type": "stream",
     "text": [
      "[42  2  3  4  5]\n",
      "[1 2 3 4 5]\n"
     ]
    }
   ],
   "source": [
    "# copy() : it is going to create new instance for your value\n",
    "\n",
    "arr=np.array([1, 2, 3, 4, 5])\n",
    "x = arr.copy() # seperate object required\n",
    "arr[0]=42 # updated arr o th index\n",
    "\n",
    "print(arr)\n",
    "print(x)"
   ]
  },
  {
   "cell_type": "code",
   "execution_count": 108,
   "id": "739e7cf6",
   "metadata": {},
   "outputs": [
    {
     "name": "stdout",
     "output_type": "stream",
     "text": [
      "[1 2 3 4 5 6]\n",
      "[100   2   3   4   5   6]\n",
      "[1 2 3 4 5 6]\n"
     ]
    }
   ],
   "source": [
    "arr = np.array([1,2,3,4,5,6])\n",
    "x = arr.copy()\n",
    "print(x)\n",
    "x[0] = 100\n",
    "print(x)\n",
    "\n",
    "print(arr)\n",
    "#print(x) "
   ]
  },
  {
   "cell_type": "code",
   "execution_count": 112,
   "id": "c9f6a9aa",
   "metadata": {},
   "outputs": [
    {
     "name": "stdout",
     "output_type": "stream",
     "text": [
      "[200   2   3   4   5]\n",
      "[200   2   3   4   5]\n"
     ]
    }
   ],
   "source": [
    "# view() : \n",
    "\n",
    "arr = np.array([1, 2, 3, 4, 5])\n",
    "x = arr.view()\n",
    "\n",
    "# x = arr\n",
    "x[0] = 200\n",
    "\n",
    "print(arr)\n",
    "print(x) "
   ]
  },
  {
   "cell_type": "code",
   "execution_count": 113,
   "id": "6843c924",
   "metadata": {},
   "outputs": [
    {
     "name": "stdout",
     "output_type": "stream",
     "text": [
      "[4 2 3]\n",
      "[4 2 3]\n"
     ]
    }
   ],
   "source": [
    "a = np.array([1, 2, 3])\n",
    "b = a.view()\n",
    "b[0] = 4\n",
    "\n",
    "print(a) # Output: [4 2 3]\n",
    "print(b) # Output: [4 2 3]\n"
   ]
  },
  {
   "cell_type": "code",
   "execution_count": 118,
   "id": "afe129fa",
   "metadata": {},
   "outputs": [
    {
     "name": "stdout",
     "output_type": "stream",
     "text": [
      "None\n",
      "[1 2 3 4 5]\n"
     ]
    }
   ],
   "source": [
    "# best concept : how to identify copy or view\n",
    "# that will possible by using \"base\" funcion\n",
    "\n",
    "\n",
    "arr = np.array([1, 2, 3, 4, 5])\n",
    "\n",
    "x = arr.copy()\n",
    "y = arr.view()\n",
    "\n",
    "print(x.base)\n",
    "print(y.base) "
   ]
  },
  {
   "cell_type": "markdown",
   "id": "46ec8a7a",
   "metadata": {},
   "source": [
    "### Numpy Array Reshaping"
   ]
  },
  {
   "cell_type": "code",
   "execution_count": 133,
   "id": "c5dc467e",
   "metadata": {},
   "outputs": [
    {
     "name": "stdout",
     "output_type": "stream",
     "text": [
      "12\n",
      "(12,)\n",
      "\n",
      "\n",
      "[[ 1  2  3  4]\n",
      " [ 5  6  7  8]\n",
      " [ 9 10 11 12]]\n"
     ]
    }
   ],
   "source": [
    "arr =np.array([1, 2, 3, 4, 5, 6, 7, 8, 9, 10, 11, 12])\n",
    "\n",
    "print(arr.size)\n",
    "print(arr.shape)\n",
    "print('\\n')\n",
    "newarr=arr.reshape(3,4)\n",
    "print(newarr)"
   ]
  },
  {
   "cell_type": "code",
   "execution_count": 132,
   "id": "ec6403b7",
   "metadata": {},
   "outputs": [
    {
     "name": "stdout",
     "output_type": "stream",
     "text": [
      "12\n",
      "(12,)\n",
      "\n",
      "\n",
      "[[[ 1  2]\n",
      "  [ 3  4]]\n",
      "\n",
      " [[ 5  6]\n",
      "  [ 7  8]]\n",
      "\n",
      " [[ 9 10]\n",
      "  [11 12]]]\n"
     ]
    }
   ],
   "source": [
    "arr =np.array([1, 2, 3, 4, 5, 6, 7, 8, 9, 10, 11, 12])\n",
    "\n",
    "print(arr.size)\n",
    "print(arr.shape)\n",
    "print('\\n')\n",
    "newarr=arr.reshape(3,2,2)\n",
    "print(newarr)"
   ]
  },
  {
   "cell_type": "code",
   "execution_count": 143,
   "id": "cdc83789",
   "metadata": {},
   "outputs": [
    {
     "name": "stdout",
     "output_type": "stream",
     "text": [
      "[[[ 1  2  3]\n",
      "  [ 4  5  6]]\n",
      "\n",
      " [[ 7  8  9]\n",
      "  [10 11 12]]]\n"
     ]
    }
   ],
   "source": [
    "arr =np.array([1, 2, 3, 4, 5, 6, 7, 8, 9, 10, 11, 12])\n",
    "\n",
    "newarr=arr.reshape(2,2,3)\n",
    "\n",
    "print(newarr)"
   ]
  },
  {
   "cell_type": "code",
   "execution_count": 150,
   "id": "6fe1be9e",
   "metadata": {},
   "outputs": [
    {
     "name": "stdout",
     "output_type": "stream",
     "text": [
      "[[11 44 77 88 99 55]]\n",
      "2\n",
      "****************************************************************************************************\n",
      "[11 44 77 88 99 55]\n",
      "1\n"
     ]
    }
   ],
   "source": [
    "# create a 2D array and then convert it into 1D array\n",
    "\n",
    "arr = np.array([[11,44,77,88,99,55]])\n",
    "newarr = arr.reshape(6,)\n",
    "print(arr)\n",
    "print(arr.ndim)\n",
    "print('*'*100)\n",
    "print(newarr)\n",
    "print(newarr.ndim)"
   ]
  },
  {
   "cell_type": "code",
   "execution_count": 151,
   "id": "a3682788",
   "metadata": {},
   "outputs": [
    {
     "name": "stdout",
     "output_type": "stream",
     "text": [
      "[[11 44 77]\n",
      " [88 99 55]]\n",
      "2\n",
      "****************************************************************************************************\n",
      "[11 44 77 88 99 55]\n",
      "1\n"
     ]
    }
   ],
   "source": [
    "arr = np.array([[11,44,77],[88,99,55]])\n",
    "newarr = arr.reshape(6,)\n",
    "print(arr)\n",
    "print(arr.ndim)\n",
    "print('*'*100)\n",
    "print(newarr)\n",
    "print(newarr.ndim)"
   ]
  },
  {
   "cell_type": "code",
   "execution_count": 152,
   "id": "103b96f9",
   "metadata": {},
   "outputs": [
    {
     "name": "stdout",
     "output_type": "stream",
     "text": [
      "[11 44 77 88 99 55]\n",
      "1\n",
      "****************************************************************************************************\n",
      "[[11 44]\n",
      " [77 88]\n",
      " [99 55]]\n",
      "2\n"
     ]
    }
   ],
   "source": [
    "arr = np.array([11,44,77,88,99,55])\n",
    "newarr = arr.reshape(3,2)\n",
    "print(arr)\n",
    "print(arr.ndim)\n",
    "print('*'*100)\n",
    "print(newarr)\n",
    "print(newarr.ndim)"
   ]
  },
  {
   "cell_type": "code",
   "execution_count": 148,
   "id": "541d5be9",
   "metadata": {},
   "outputs": [
    {
     "name": "stdout",
     "output_type": "stream",
     "text": [
      "[[[ 11  44  77  88  99  55]]\n",
      "\n",
      " [[111 441 717 188 919 515]]]\n",
      "3\n",
      "****************************************************************************************************\n",
      "[ 11  44  77  88  99  55 111 441 717 188 919 515]\n",
      "1\n"
     ]
    }
   ],
   "source": [
    "# convert 3D array into 1D array\n",
    "arr = np.array([[[11,44,77,88,99,55]],[[111,441,717,188,919,515]]])\n",
    "newarr = arr.reshape(12,)\n",
    "print(arr)\n",
    "print(arr.ndim)\n",
    "print('*'*100)\n",
    "print(newarr)\n",
    "print(newarr.ndim)\n"
   ]
  },
  {
   "cell_type": "code",
   "execution_count": 154,
   "id": "e09646c7",
   "metadata": {},
   "outputs": [
    {
     "name": "stdout",
     "output_type": "stream",
     "text": [
      "[ 11  44  77  88  99  55 111 441 717 188 919 515]\n",
      "1\n",
      "****************************************************************************************************\n",
      "[[[ 11  44  77  88]\n",
      "  [ 99  55 111 441]\n",
      "  [717 188 919 515]]]\n",
      "3\n"
     ]
    }
   ],
   "source": [
    "arr = np.array([11,44,77,88,99,55,111,441,717,188,919,515])\n",
    "newarr = arr.reshape(1,3,4)\n",
    "print(arr)\n",
    "print(arr.ndim)\n",
    "print('*'*100)\n",
    "print(newarr)\n",
    "print(newarr.ndim)"
   ]
  },
  {
   "cell_type": "code",
   "execution_count": 149,
   "id": "96cc35d1",
   "metadata": {},
   "outputs": [
    {
     "name": "stdout",
     "output_type": "stream",
     "text": [
      "[[[[11 44 77 88 99 55]]]]\n",
      "4\n",
      "****************************************************************************************************\n",
      "[11 44 77 88 99 55]\n",
      "1\n"
     ]
    }
   ],
   "source": [
    "# convert 4D array into 1D array\n",
    "\n",
    "arr = np.array([[[[11,44,77,88,99,55]]]])\n",
    "newarr = arr.reshape(6,)\n",
    "print(arr)\n",
    "print(arr.ndim)\n",
    "print('*'*100)\n",
    "print(newarr)\n",
    "print(newarr.ndim)"
   ]
  },
  {
   "cell_type": "code",
   "execution_count": 157,
   "id": "afd83efc",
   "metadata": {},
   "outputs": [
    {
     "name": "stdout",
     "output_type": "stream",
     "text": [
      "[11 44 77 88 99 55]\n",
      "1\n",
      "****************************************************************************************************\n",
      "[[[[11 44]\n",
      "   [77 88]\n",
      "   [99 55]]]]\n",
      "4\n"
     ]
    }
   ],
   "source": [
    "arr = np.array([11,44,77,88,99,55])\n",
    "newarr = arr.reshape((1,1,3,2))\n",
    "print(arr)\n",
    "print(arr.ndim)\n",
    "print('*'*100)\n",
    "print(newarr)\n",
    "print(newarr.ndim)"
   ]
  },
  {
   "cell_type": "markdown",
   "id": "f9be8f24",
   "metadata": {},
   "source": [
    "### Numpy Array Reshape Flatten unknown Dimensions"
   ]
  },
  {
   "cell_type": "markdown",
   "id": "81d89b5f",
   "metadata": {},
   "source": [
    "###### If user **dont know any one dimension out 3 dimensions** then numpy can obtain it for user. User have mension the **-1** for that dim."
   ]
  },
  {
   "cell_type": "code",
   "execution_count": 166,
   "id": "4b188d25",
   "metadata": {},
   "outputs": [
    {
     "name": "stdout",
     "output_type": "stream",
     "text": [
      "[[[1 2]\n",
      "  [3 4]]\n",
      "\n",
      " [[5 6]\n",
      "  [7 8]]]\n"
     ]
    }
   ],
   "source": [
    "# Unknown Dimension\n",
    "\n",
    "arr = np.array([1, 2, 3, 4, 5, 6, 7, 8])\n",
    "\n",
    "newarr = arr.reshape(2, 2, -1)\n",
    "\n",
    "print(newarr) "
   ]
  },
  {
   "cell_type": "markdown",
   "id": "28327bb6",
   "metadata": {},
   "source": [
    "##### if u want to obtain a 1-D array using N-D array "
   ]
  },
  {
   "cell_type": "code",
   "execution_count": 168,
   "id": "fdc4b15a",
   "metadata": {},
   "outputs": [
    {
     "name": "stdout",
     "output_type": "stream",
     "text": [
      "[[10 20 30]\n",
      " [40 50 60]]\n",
      "(2, 3)\n",
      "(6,)\n",
      "[10 20 30 40 50 60]\n"
     ]
    }
   ],
   "source": [
    "# Flattening(reshape/convert in scalar vector) an Array\n",
    "\n",
    "arr=np.array([[10,20,30],[40,50,60]])\n",
    "\n",
    "print(arr)\n",
    "print(arr.shape)\n",
    "\n",
    "newarr=arr.reshape(-1)\n",
    "\n",
    "print(newarr.shape)\n",
    "print(newarr)"
   ]
  },
  {
   "cell_type": "markdown",
   "id": "af22489d",
   "metadata": {},
   "source": [
    "### NumPy Array Iterating\n",
    "\n",
    "Iterating: means that you going through each element of the array"
   ]
  },
  {
   "cell_type": "code",
   "execution_count": 169,
   "id": "77230998",
   "metadata": {},
   "outputs": [
    {
     "name": "stdout",
     "output_type": "stream",
     "text": [
      "1\n",
      "2\n",
      "3\n"
     ]
    }
   ],
   "source": [
    "arr =np.array([1,2,3])\n",
    "\n",
    "for x in arr:\n",
    "    print(x)"
   ]
  },
  {
   "cell_type": "code",
   "execution_count": 171,
   "id": "3d98a9a2",
   "metadata": {},
   "outputs": [
    {
     "name": "stdout",
     "output_type": "stream",
     "text": [
      "[11 22 33]\n",
      "[10 20 30]\n"
     ]
    }
   ],
   "source": [
    "# iterating on 2-D array \n",
    "arr = np.array([[11,22,33],[10,20,30]])\n",
    "\n",
    "#print(arr)\n",
    "\n",
    "for x in arr: # x is taking elemets here\n",
    "    print(x)"
   ]
  },
  {
   "cell_type": "code",
   "execution_count": 174,
   "id": "6446d76c",
   "metadata": {},
   "outputs": [
    {
     "name": "stdout",
     "output_type": "stream",
     "text": [
      "1\n",
      "2\n",
      "3\n",
      "4\n",
      "5\n",
      "6\n"
     ]
    }
   ],
   "source": [
    "# Iterating on scalar element of 2-D array\n",
    "\n",
    "arr=np.array([[1, 2, 3],[4, 5, 6]])\n",
    "\n",
    "for x in arr: # here x is holding list of elements\n",
    "    for i in x:\n",
    "        print(i)"
   ]
  },
  {
   "cell_type": "code",
   "execution_count": 181,
   "id": "7249c6e1",
   "metadata": {},
   "outputs": [
    {
     "name": "stdout",
     "output_type": "stream",
     "text": [
      "1 \n",
      "\n",
      "2 \n",
      "\n",
      "3 \n",
      "\n",
      "4 \n",
      "\n",
      "5 \n",
      "\n",
      "6 \n",
      "\n",
      "7 \n",
      "\n",
      "8 \n",
      "\n",
      "9 \n",
      "\n",
      "10 \n",
      "\n",
      "11 \n",
      "\n",
      "12 \n",
      "\n"
     ]
    }
   ],
   "source": [
    "# Iterating on scalar element of 3-D array\n",
    "\n",
    "arr=np.array([[[1,2,3],[4,5,6]],[[7,8,9],[10,11,12]]])\n",
    "for x in arr:\n",
    "#     print(x,'\\n')\n",
    "    for i in x:\n",
    "#          print(i,'\\n')\n",
    "         for j in i:\n",
    "            print(j,'\\n')"
   ]
  },
  {
   "cell_type": "markdown",
   "id": "492d8861",
   "metadata": {},
   "source": [
    "###### 1. Using nditer()"
   ]
  },
  {
   "cell_type": "code",
   "execution_count": 182,
   "id": "b9412401",
   "metadata": {},
   "outputs": [
    {
     "name": "stdout",
     "output_type": "stream",
     "text": [
      "1\n",
      "2\n",
      "3\n",
      "4\n",
      "5\n",
      "6\n",
      "7\n",
      "8\n"
     ]
    }
   ],
   "source": [
    "# Iterating on 3-D array\n",
    "arr =np.array([[[1,2],[3,4]], [[5,6],[7,8]]])\n",
    "\n",
    "y = np.nditer(arr)\n",
    "\n",
    "for x in y:\n",
    "    print(x)"
   ]
  },
  {
   "cell_type": "code",
   "execution_count": 184,
   "id": "6d21e6f2",
   "metadata": {},
   "outputs": [
    {
     "name": "stdout",
     "output_type": "stream",
     "text": [
      "1\n",
      "2\n",
      "3\n",
      "4\n",
      "5\n",
      "6\n",
      "7\n",
      "8\n"
     ]
    }
   ],
   "source": [
    "arr =np.array([[[1,2],[3,4]], [[5,6],[7,8]]])\n",
    "\n",
    "for x in np.nditer(arr):\n",
    "    print(x)"
   ]
  },
  {
   "cell_type": "code",
   "execution_count": 191,
   "id": "a42504e2",
   "metadata": {},
   "outputs": [
    {
     "name": "stdout",
     "output_type": "stream",
     "text": [
      "<numpy.nditer object at 0x0000023B08797EB0>\n",
      "1\n",
      "2\n",
      "3\n",
      "4\n",
      "88\n",
      "88\n",
      "3939\n",
      "999\n"
     ]
    }
   ],
   "source": [
    "arr=np.array([[1,2,3,4],[88,88,3939,999]])\n",
    "\n",
    "print(np.nditer(arr))\n",
    "\n",
    "for i in np.nditer(arr):\n",
    "    print(i)"
   ]
  },
  {
   "cell_type": "code",
   "execution_count": 211,
   "id": "9d52476b",
   "metadata": {},
   "outputs": [
    {
     "name": "stdout",
     "output_type": "stream",
     "text": [
      "1.0\n",
      "2.0\n",
      "3.0\n",
      "1\n",
      "2\n",
      "3\n",
      "b'1'\n",
      "b'2'\n",
      "b'3'\n"
     ]
    }
   ],
   "source": [
    "# Casting array element from one type to other data type\n",
    "\n",
    "# Numpy can not at the movemet for that we need to go with \"flags\" para in nditer\n",
    "\n",
    "arr=np.array([1, 2, 3])\n",
    "\n",
    "for x in np.nditer(arr,flags=['buffered'],op_dtypes=['float']):\n",
    "    print(\"int to float\",x)\n",
    "    \n",
    "for x in np.nditer(arr,flags=['buffered'],op_dtypes=['U']):\n",
    "    print(x)\n",
    "    \n",
    "for x in np.nditer(arr,flags=['buffered'],op_dtypes=['S']):\n",
    "    print(x)"
   ]
  },
  {
   "cell_type": "code",
   "execution_count": 252,
   "id": "bd695433",
   "metadata": {},
   "outputs": [
    {
     "name": "stdout",
     "output_type": "stream",
     "text": [
      "1\n",
      "3\n",
      "5\n",
      "7\n"
     ]
    }
   ],
   "source": [
    "# Slicing of an numpy array steps in iterations\n",
    "# 2D array\n",
    "arr=np.array([[1,2,3,4],[5,6,7,8]])\n",
    "\n",
    "for x in np.nditer(arr[0:, 0:3:2]): # [Array location,index number::,step_size]\n",
    "    print(x)"
   ]
  },
  {
   "cell_type": "code",
   "execution_count": 291,
   "id": "7444e52b",
   "metadata": {},
   "outputs": [
    {
     "name": "stdout",
     "output_type": "stream",
     "text": [
      "55\n"
     ]
    }
   ],
   "source": [
    "# 3D Array\n",
    "# array[start:end:step, start:end:step, start:end:step]\n",
    "\n",
    "arr=np.array([[[1,2,3],[11,22,33]],[[4,5,6],[44,55,66]]])\n",
    "\n",
    "for x in np.nditer(arr[1:,1::,1::3]):\n",
    "    print(x)"
   ]
  },
  {
   "cell_type": "code",
   "execution_count": 299,
   "id": "5fc8f515",
   "metadata": {},
   "outputs": [
    {
     "name": "stdout",
     "output_type": "stream",
     "text": [
      "1\n",
      "2\n",
      "3\n",
      "4\n",
      "5\n",
      "6\n",
      "7\n",
      "8\n",
      "9\n",
      "10\n",
      "11\n",
      "12\n"
     ]
    }
   ],
   "source": [
    "# create a 3D numpy array\n",
    "array_3d = np.array([\n",
    "    [[1, 2, 3], [4, 5, 6]],\n",
    "    [[7, 8, 9], [10, 11, 12]]\n",
    "])\n",
    "\n",
    "# slice the array along the first dimension\n",
    "for i in np.nditer(array_3d[0:,:,:]):\n",
    "    print(i)"
   ]
  },
  {
   "cell_type": "code",
   "execution_count": 303,
   "id": "e6ac220f",
   "metadata": {},
   "outputs": [
    {
     "name": "stdout",
     "output_type": "stream",
     "text": [
      "1\n",
      "3\n",
      "4\n",
      "6\n",
      "7\n",
      "9\n",
      "10\n",
      "12\n"
     ]
    }
   ],
   "source": [
    "array_3d = np.array([\n",
    "    [[1, 2, 3], [4, 5, 6]],\n",
    "    [[7, 8, 9], [10, 11, 12]]\n",
    "])\n",
    "\n",
    "# slice the array with a step size of 2 along the first dimension\n",
    "for i in np.nditer(array_3d[:,::,::2]):\n",
    "    print(i)"
   ]
  },
  {
   "cell_type": "markdown",
   "id": "a69ca5a2",
   "metadata": {},
   "source": [
    "###### 2. Using ndenumerate()\n",
    "\n",
    "    Enumeration means mentioning sequence number of somethings one by one\n",
    "    \n",
    "    whenever we want to access any location of element in multi dimentional arrays that time we can use \"ndenumerate\"\n",
    "    \n",
    "    this method always return tuple of index and element"
   ]
  },
  {
   "cell_type": "code",
   "execution_count": 307,
   "id": "3d87b896",
   "metadata": {},
   "outputs": [
    {
     "name": "stdout",
     "output_type": "stream",
     "text": [
      "((0,), 1)\n",
      "((1,), 2)\n",
      "((2,), 3)\n",
      "****************************************************************************************************\n",
      "Index : (0,) Value 1\n",
      "Index : (1,) Value 2\n",
      "Index : (2,) Value 3\n"
     ]
    }
   ],
   "source": [
    "arr = np.array([1, 2, 3])\n",
    "\n",
    "for x in np.ndenumerate(arr):\n",
    "    print(x)\n",
    "    \n",
    "print('*'*100)    \n",
    "\n",
    "for i,x in np.ndenumerate(arr):\n",
    "    print(\"Index :\",i,\"Value\",x)"
   ]
  },
  {
   "cell_type": "code",
   "execution_count": 310,
   "id": "53262d11",
   "metadata": {},
   "outputs": [
    {
     "name": "stdout",
     "output_type": "stream",
     "text": [
      "[[1 2 3 4]\n",
      " [5 6 7 8]]\n",
      "Index : (0, 0) Value 1\n",
      "Index : (0, 1) Value 2\n",
      "Index : (0, 2) Value 3\n",
      "Index : (0, 3) Value 4\n",
      "Index : (1, 0) Value 5\n",
      "Index : (1, 1) Value 6\n",
      "Index : (1, 2) Value 7\n",
      "Index : (1, 3) Value 8\n"
     ]
    }
   ],
   "source": [
    "# 2D array\n",
    "\n",
    "arr=np.array([[1,2,3,4],[5,6,7,8]])\n",
    "\n",
    "print(arr)\n",
    "for i, val in np.ndenumerate(arr):\n",
    "    print(\"Index :\",i,\"Value\",val)"
   ]
  },
  {
   "cell_type": "code",
   "execution_count": 311,
   "id": "e26450d2",
   "metadata": {},
   "outputs": [
    {
     "name": "stdout",
     "output_type": "stream",
     "text": [
      "[[[ 1  2  3  4]\n",
      "  [ 5  6  7  8]]\n",
      "\n",
      " [[10 20 30 40]\n",
      "  [50 60 70 80]]]\n",
      "Index : (0, 0, 0) Value 1\n",
      "Index : (0, 0, 1) Value 2\n",
      "Index : (0, 0, 2) Value 3\n",
      "Index : (0, 0, 3) Value 4\n",
      "Index : (0, 1, 0) Value 5\n",
      "Index : (0, 1, 1) Value 6\n",
      "Index : (0, 1, 2) Value 7\n",
      "Index : (0, 1, 3) Value 8\n",
      "Index : (1, 0, 0) Value 10\n",
      "Index : (1, 0, 1) Value 20\n",
      "Index : (1, 0, 2) Value 30\n",
      "Index : (1, 0, 3) Value 40\n",
      "Index : (1, 1, 0) Value 50\n",
      "Index : (1, 1, 1) Value 60\n",
      "Index : (1, 1, 2) Value 70\n",
      "Index : (1, 1, 3) Value 80\n"
     ]
    }
   ],
   "source": [
    "# 3D array\n",
    "\n",
    "arr=np.array([[[1,2,3,4],[5,6,7,8]],[[10,20,30,40],[50,60,70,80]]])\n",
    "\n",
    "print(arr)\n",
    "for i, val in np.ndenumerate(arr):\n",
    "    print(\"Index :\",i,\"Value\",val)"
   ]
  },
  {
   "cell_type": "markdown",
   "id": "1c717e44",
   "metadata": {},
   "source": [
    "### Joining Array\n",
    "\n",
    "    While joining array we should remember \"both arrays should have same dimentions\""
   ]
  },
  {
   "cell_type": "markdown",
   "id": "e7ed744e",
   "metadata": {},
   "source": [
    "###### 1. using concatenation "
   ]
  },
  {
   "cell_type": "code",
   "execution_count": 312,
   "id": "389abb24",
   "metadata": {},
   "outputs": [
    {
     "name": "stdout",
     "output_type": "stream",
     "text": [
      "[1 2 3 4 5 6]\n"
     ]
    }
   ],
   "source": [
    "arr1=np.array([1,2,3])\n",
    "arr2=np.array([4,5,6])\n",
    "\n",
    "arr=np.concatenate((arr1,arr2))\n",
    "print(arr)"
   ]
  },
  {
   "cell_type": "code",
   "execution_count": 313,
   "id": "0d42a231",
   "metadata": {},
   "outputs": [
    {
     "name": "stdout",
     "output_type": "stream",
     "text": [
      "[[1 2 5 6]\n",
      " [3 4 7 8]]\n",
      "****************************************************************************************************\n",
      "[[1 2]\n",
      " [3 4]\n",
      " [5 6]\n",
      " [7 8]]\n"
     ]
    }
   ],
   "source": [
    "# Array concatenation using axis option\n",
    "\n",
    "# axis = 0 : it represents rows (default)\n",
    "# axis = 1 : it represents columns\n",
    "\n",
    "arr1 = np.array([[1, 2], [3, 4]])\n",
    "\n",
    "arr2 = np.array([[5,6 ], [7, 8]])\n",
    "\n",
    "arr = np.concatenate((arr1, arr2), axis=1) # columnwise\n",
    "print(arr)\n",
    "\n",
    "print('*'*100)\n",
    "\n",
    "arr = np.concatenate((arr1, arr2), axis=0) # rowwise\n",
    "print(arr)"
   ]
  },
  {
   "cell_type": "markdown",
   "id": "db8634a9",
   "metadata": {},
   "source": [
    "###### 2. using Stack Functions\n",
    "\n",
    "         Stacking is same as concatenation, the only difference is that stacking is done along a new axis."
   ]
  },
  {
   "cell_type": "code",
   "execution_count": 316,
   "id": "05e8bc5e",
   "metadata": {},
   "outputs": [
    {
     "name": "stdout",
     "output_type": "stream",
     "text": [
      "[[1 4]\n",
      " [2 5]\n",
      " [3 6]]\n",
      "****************************************************************************************************\n",
      "[[1 2 3]\n",
      " [4 5 6]]\n"
     ]
    }
   ],
   "source": [
    "arr1 = np.array([1, 2, 3])\n",
    "arr2 = np.array([4, 5, 6])\n",
    "\n",
    "arr = np.stack((arr1, arr2), axis=1)\n",
    "print(arr)\n",
    "\n",
    "print('*'*100)\n",
    "\n",
    "arr=np.stack((arr1,arr2),axis=0)\n",
    "print(arr)"
   ]
  },
  {
   "cell_type": "markdown",
   "id": "97e5eb1a",
   "metadata": {},
   "source": [
    "> ###### 2.1 using \"hstack function()\""
   ]
  },
  {
   "cell_type": "code",
   "execution_count": 317,
   "id": "c428bac5",
   "metadata": {},
   "outputs": [
    {
     "name": "stdout",
     "output_type": "stream",
     "text": [
      "[1 2 3 4 5 6]\n"
     ]
    }
   ],
   "source": [
    "arr1 = np.array([1, 2, 3])\n",
    "arr2 = np.array([4, 5, 6])\n",
    "\n",
    "arr = np.hstack((arr1, arr2))\n",
    "\n",
    "print(arr) "
   ]
  },
  {
   "cell_type": "markdown",
   "id": "d0f49223",
   "metadata": {},
   "source": [
    "> ###### 2.2 using \"vstack function()\""
   ]
  },
  {
   "cell_type": "code",
   "execution_count": 318,
   "id": "4cf0189a",
   "metadata": {},
   "outputs": [
    {
     "name": "stdout",
     "output_type": "stream",
     "text": [
      "[[1 2 3]\n",
      " [4 5 6]]\n"
     ]
    }
   ],
   "source": [
    "arr1 = np.array([1, 2, 3])\n",
    "arr2 = np.array([4, 5, 6])\n",
    "\n",
    "arr = np.vstack((arr1, arr2))\n",
    "\n",
    "print(arr) "
   ]
  },
  {
   "cell_type": "markdown",
   "id": "f36748b5",
   "metadata": {},
   "source": [
    "> ###### 2.3 using \"dstack function()\""
   ]
  },
  {
   "cell_type": "code",
   "execution_count": 319,
   "id": "a61ec39e",
   "metadata": {},
   "outputs": [
    {
     "name": "stdout",
     "output_type": "stream",
     "text": [
      "[[[1 4]\n",
      "  [2 5]\n",
      "  [3 6]]]\n"
     ]
    }
   ],
   "source": [
    "arr1 = np.array([1, 2, 3])\n",
    "arr2 = np.array([4, 5, 6])\n",
    "\n",
    "arr = np.dstack((arr1, arr2))\n",
    "\n",
    "print(arr) "
   ]
  },
  {
   "cell_type": "code",
   "execution_count": 320,
   "id": "3c73240e",
   "metadata": {},
   "outputs": [
    {
     "name": "stdout",
     "output_type": "stream",
     "text": [
      "[[[ 1  4]\n",
      "  [ 2  5]\n",
      "  [ 3  6]]\n",
      "\n",
      " [[11 44]\n",
      "  [22 55]\n",
      "  [33 66]]]\n"
     ]
    }
   ],
   "source": [
    "arr1 = np.array([[1, 2, 3],[11,22,33]])\n",
    "arr2 = np.array([[4, 5, 6],[44,55,66]])\n",
    "\n",
    "arr = np.dstack((arr1, arr2))\n",
    "\n",
    "print(arr) "
   ]
  },
  {
   "cell_type": "markdown",
   "id": "1de7383b",
   "metadata": {},
   "source": [
    "### Splitting Array\n",
    "\n",
    "    Joining merges multiple arrays into one and splitting breaks one array into multiple.\n",
    "    \n",
    "    syntax:\n",
    "    \n",
    "    np.array_split(array,no_split)\n",
    "    np.split(array,no_split)"
   ]
  },
  {
   "cell_type": "markdown",
   "id": "5578908c",
   "metadata": {},
   "source": [
    "> ###### 1. using split()"
   ]
  },
  {
   "cell_type": "code",
   "execution_count": 325,
   "id": "b713a457",
   "metadata": {},
   "outputs": [
    {
     "name": "stdout",
     "output_type": "stream",
     "text": [
      "[1 2 3 4 5 6]\n",
      "[array([1, 2]), array([3, 4]), array([5, 6])]\n",
      "****************************************************************************************************\n",
      "[1 2]\n",
      "[3 4]\n",
      "[5 6]\n"
     ]
    }
   ],
   "source": [
    "arr = np.array([1, 2, 3, 4, 5, 6])\n",
    "\n",
    "print(arr)\n",
    "\n",
    "newarr=np.split(arr,3)\n",
    "print(newarr)\n",
    "\n",
    "print('*'*100)\n",
    "\n",
    "for i in newarr:\n",
    "    print(i)"
   ]
  },
  {
   "cell_type": "code",
   "execution_count": 335,
   "id": "f9c986a3",
   "metadata": {},
   "outputs": [
    {
     "name": "stdout",
     "output_type": "stream",
     "text": [
      "[[1 2 3]\n",
      " [4 5 6]]\n",
      "[array([[1],\n",
      "       [4]]), array([[2],\n",
      "       [5]]), array([[3],\n",
      "       [6]])]\n",
      "****************************************************************************************************\n",
      "[[1]\n",
      " [4]]\n",
      "[[2]\n",
      " [5]]\n",
      "[[3]\n",
      " [6]]\n"
     ]
    }
   ],
   "source": [
    "# using axis\n",
    "\n",
    "arr = np.array([[1, 2, 3], [4, 5, 6]])\n",
    "print(arr)\n",
    "\n",
    "newarr=np.split(arr,3,axis=1)\n",
    "print(newarr)\n",
    "\n",
    "print('*'*100)\n",
    "\n",
    "for i in newarr:\n",
    "    print(i)"
   ]
  },
  {
   "cell_type": "code",
   "execution_count": 337,
   "id": "d7e0d54b",
   "metadata": {},
   "outputs": [
    {
     "name": "stdout",
     "output_type": "stream",
     "text": [
      "[1 2 3 4 5 6]\n",
      "[array([1, 2]), array([3, 4]), array([5, 6])]\n",
      "[1 2]\n",
      "[3 4]\n",
      "[5 6]\n"
     ]
    }
   ],
   "source": [
    "arr = np.array([1, 2, 3, 4, 5, 6])\n",
    "\n",
    "print(arr)\n",
    "newarr = np.split(arr, 3)\n",
    "#newarr = np.split(arr, 4) # This will raise an Value Error\n",
    "print(newarr)\n",
    "\n",
    "for i in newarr:\n",
    "    print(i)"
   ]
  },
  {
   "cell_type": "markdown",
   "id": "3f827bb8",
   "metadata": {},
   "source": [
    "> ###### 2. array_split()\n",
    "\n",
    "    If no of elements are less than it adjust in last array \n",
    "    \n",
    "    It dones raise error this will adjust the element in array"
   ]
  },
  {
   "cell_type": "code",
   "execution_count": 339,
   "id": "6285ac24",
   "metadata": {},
   "outputs": [
    {
     "name": "stdout",
     "output_type": "stream",
     "text": [
      "[array([1, 2, 3]), array([4, 5, 6])]\n"
     ]
    }
   ],
   "source": [
    "arr = np.array([1, 2, 3, 4, 5, 6])\n",
    "\n",
    "newarr = np.array_split(arr, 2)\n",
    "print(newarr)"
   ]
  },
  {
   "cell_type": "code",
   "execution_count": 342,
   "id": "bbf9069c",
   "metadata": {},
   "outputs": [
    {
     "name": "stdout",
     "output_type": "stream",
     "text": [
      "[array([1, 2]), array([3, 4]), array([5, 6])]\n"
     ]
    }
   ],
   "source": [
    "newarr = np.array_split(arr,3)\n",
    "print(newarr)"
   ]
  },
  {
   "cell_type": "code",
   "execution_count": 343,
   "id": "fb30813a",
   "metadata": {},
   "outputs": [
    {
     "name": "stdout",
     "output_type": "stream",
     "text": [
      "[array([1, 2]), array([3, 4]), array([5]), array([6])]\n"
     ]
    }
   ],
   "source": [
    "newarr = np.array_split(arr,4)\n",
    "print(newarr)"
   ]
  },
  {
   "cell_type": "code",
   "execution_count": 346,
   "id": "c95a1815",
   "metadata": {},
   "outputs": [
    {
     "name": "stdout",
     "output_type": "stream",
     "text": [
      "[array([1, 2]), array([3]), array([4]), array([5]), array([6])]\n",
      "****************************************************************************************************\n",
      "[3]\n"
     ]
    }
   ],
   "source": [
    "newarr = np.array_split(arr,5)\n",
    "print(newarr)\n",
    "\n",
    "print('*'*100)\n",
    "\n",
    "print(newarr[1])"
   ]
  },
  {
   "cell_type": "code",
   "execution_count": 349,
   "id": "8492010e",
   "metadata": {},
   "outputs": [
    {
     "name": "stdout",
     "output_type": "stream",
     "text": [
      "[array([[1, 2],\n",
      "       [3, 4]]), array([[5, 6],\n",
      "       [7, 8]]), array([[ 9, 10],\n",
      "       [11, 12]])]\n"
     ]
    }
   ],
   "source": [
    "# splitting on 2-D array\n",
    "\n",
    "arr=np.array([[1,2],[3,4],[5,6],[7,8],[9,10],[11,12]])\n",
    "newarr=np.array_split(arr,3)\n",
    "print(newarr)"
   ]
  },
  {
   "cell_type": "code",
   "execution_count": 351,
   "id": "0412f957",
   "metadata": {},
   "outputs": [
    {
     "name": "stdout",
     "output_type": "stream",
     "text": [
      "[array([[ 1],\n",
      "       [ 3],\n",
      "       [ 5],\n",
      "       [ 7],\n",
      "       [ 9],\n",
      "       [11]]), array([[ 2],\n",
      "       [ 4],\n",
      "       [ 6],\n",
      "       [ 8],\n",
      "       [10],\n",
      "       [12]])]\n"
     ]
    }
   ],
   "source": [
    "arr=np.array([[1,2],[3,4],[5,6],[7,8],[9,10],[11,12]])\n",
    "newarr=np.array_split(arr,2,axis=1)\n",
    "print(newarr)"
   ]
  },
  {
   "cell_type": "code",
   "execution_count": 363,
   "id": "2a68871a",
   "metadata": {},
   "outputs": [
    {
     "name": "stdout",
     "output_type": "stream",
     "text": [
      "[[1 2]\n",
      " [3 4]] \n",
      "\n",
      "[[5 6]\n",
      " [7 8]] \n",
      "\n",
      "[[ 9 10]] \n",
      "\n",
      "[[11 12]] \n",
      "\n"
     ]
    }
   ],
   "source": [
    "arr=np.array([[1,2],[3,4],[5,6],[7,8],[9,10],[11,12]])\n",
    "newarr=np.array_split(arr,4,axis=0)\n",
    "\n",
    "for i in newarr:\n",
    "    print(i,'\\n')"
   ]
  },
  {
   "cell_type": "code",
   "execution_count": 364,
   "id": "401233f1",
   "metadata": {},
   "outputs": [
    {
     "name": "stdout",
     "output_type": "stream",
     "text": [
      "[[ 1]\n",
      " [ 3]\n",
      " [ 5]\n",
      " [ 7]\n",
      " [ 9]\n",
      " [11]] \n",
      "\n",
      "[[ 2]\n",
      " [ 4]\n",
      " [ 6]\n",
      " [ 8]\n",
      " [10]\n",
      " [12]] \n",
      "\n"
     ]
    }
   ],
   "source": [
    "arr=np.array([[1,2],[3,4],[5,6],[7,8],[9,10],[11,12]])\n",
    "newarr=np.array_split(arr,2,axis=1)\n",
    "\n",
    "for i in newarr:\n",
    "    print(i,'\\n')"
   ]
  },
  {
   "cell_type": "code",
   "execution_count": 369,
   "id": "6e704eb9",
   "metadata": {},
   "outputs": [
    {
     "name": "stdout",
     "output_type": "stream",
     "text": [
      "[array([[ 1],\n",
      "       [ 4],\n",
      "       [ 7],\n",
      "       [10],\n",
      "       [13],\n",
      "       [16]]), array([[ 2],\n",
      "       [ 5],\n",
      "       [ 8],\n",
      "       [11],\n",
      "       [14],\n",
      "       [17]]), array([[ 3],\n",
      "       [ 6],\n",
      "       [ 9],\n",
      "       [12],\n",
      "       [15],\n",
      "       [18]])]\n",
      "****************************************************************************************************\n",
      "[[ 1  2  3]\n",
      " [ 4  5  6]\n",
      " [ 7  8  9]\n",
      " [10 11 12]\n",
      " [13 14 15]\n",
      " [16 17 18]] \n",
      "\n",
      "[array([[1, 2, 3],\n",
      "       [4, 5, 6]]), array([[ 7,  8,  9],\n",
      "       [10, 11, 12]]), array([[13, 14, 15],\n",
      "       [16, 17, 18]])]\n"
     ]
    }
   ],
   "source": [
    "# Array splitting on axis\n",
    "arr = np.array([[1, 2, 3], \n",
    "                [4, 5, 6], \n",
    "                [7, 8, 9], \n",
    "                [10, 11, 12], \n",
    "                [13, 14, 15], \n",
    "                [16, 17, 18]])\n",
    "\n",
    "# print(arr)\n",
    "\n",
    "newarr = np.array_split(arr, 3, axis=1)\n",
    "\n",
    "print(newarr) \n",
    "\n",
    "print('*'*100)\n",
    "print(arr,'\\n')\n",
    "newarr = np.array_split(arr, 3, axis=0)\n",
    "\n",
    "print(newarr)"
   ]
  },
  {
   "cell_type": "markdown",
   "id": "c60c5d0b",
   "metadata": {},
   "source": [
    "> ###### 3. using hsplit() opposite of hstack()"
   ]
  },
  {
   "cell_type": "code",
   "execution_count": 382,
   "id": "2e23008a",
   "metadata": {},
   "outputs": [
    {
     "name": "stdout",
     "output_type": "stream",
     "text": [
      "[[ 1  2  3]\n",
      " [ 4  5  6]\n",
      " [ 7  8  9]\n",
      " [10 11 12]\n",
      " [13 14 15]\n",
      " [16 17 18]] \n",
      "\n",
      "hstack() method:\n",
      "\n",
      "[ 1  2  3  4  5  6  7  8  9 10 11 12 13 14 15 16 17 18] \n",
      "\n",
      "hsplit() method:\n",
      "\n",
      "[array([[ 1],\n",
      "       [ 4],\n",
      "       [ 7],\n",
      "       [10],\n",
      "       [13],\n",
      "       [16]]), array([[ 2],\n",
      "       [ 5],\n",
      "       [ 8],\n",
      "       [11],\n",
      "       [14],\n",
      "       [17]]), array([[ 3],\n",
      "       [ 6],\n",
      "       [ 9],\n",
      "       [12],\n",
      "       [15],\n",
      "       [18]])]\n"
     ]
    }
   ],
   "source": [
    "arr = np.array([[1, 2, 3],\n",
    "                [4, 5, 6],\n",
    "                [7, 8, 9],\n",
    "                [10, 11, 12],\n",
    "                [13, 14, 15],\n",
    "                [16, 17, 18]])\n",
    "\n",
    "print(arr,'\\n')\n",
    "print('hstack() method:\\n')\n",
    "newarr = np.hstack(arr)\n",
    "print(newarr,'\\n')\n",
    "newarr = np.hsplit(arr, 3)\n",
    "# print(arr.shape)\n",
    "print('hsplit() method:\\n')\n",
    "print(newarr)"
   ]
  },
  {
   "cell_type": "markdown",
   "id": "70a9f2e7",
   "metadata": {},
   "source": [
    "### Searching Arrays"
   ]
  },
  {
   "cell_type": "code",
   "execution_count": null,
   "id": "67b2424d",
   "metadata": {},
   "outputs": [],
   "source": []
  }
 ],
 "metadata": {
  "kernelspec": {
   "display_name": "Python 3 (ipykernel)",
   "language": "python",
   "name": "python3"
  },
  "language_info": {
   "codemirror_mode": {
    "name": "ipython",
    "version": 3
   },
   "file_extension": ".py",
   "mimetype": "text/x-python",
   "name": "python",
   "nbconvert_exporter": "python",
   "pygments_lexer": "ipython3",
   "version": "3.11.3"
  }
 },
 "nbformat": 4,
 "nbformat_minor": 5
}
