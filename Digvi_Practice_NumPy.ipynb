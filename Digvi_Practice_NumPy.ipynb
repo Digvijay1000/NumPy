{
 "cells": [
  {
   "cell_type": "code",
   "execution_count": 1,
   "id": "6eb6defd",
   "metadata": {},
   "outputs": [],
   "source": [
    "import numpy as np"
   ]
  },
  {
   "cell_type": "code",
   "execution_count": 2,
   "id": "b30ad311",
   "metadata": {},
   "outputs": [
    {
     "data": {
      "text/plain": [
       "'1.24.2'"
      ]
     },
     "execution_count": 2,
     "metadata": {},
     "output_type": "execute_result"
    }
   ],
   "source": [
    "np.__version__"
   ]
  },
  {
   "cell_type": "code",
   "execution_count": 3,
   "id": "a10c5434",
   "metadata": {},
   "outputs": [
    {
     "name": "stdout",
     "output_type": "stream",
     "text": [
      "[ 1  2 34  5] <class 'numpy.ndarray'>\n"
     ]
    }
   ],
   "source": [
    "arr=np.array([1,2,34,5])\n",
    "print(arr,type(arr))"
   ]
  },
  {
   "cell_type": "code",
   "execution_count": 6,
   "id": "571427f2",
   "metadata": {},
   "outputs": [
    {
     "data": {
      "text/plain": [
       "2"
      ]
     },
     "execution_count": 6,
     "metadata": {},
     "output_type": "execute_result"
    }
   ],
   "source": [
    "arr[1]"
   ]
  },
  {
   "cell_type": "code",
   "execution_count": 7,
   "id": "ece7fc01",
   "metadata": {},
   "outputs": [
    {
     "data": {
      "text/plain": [
       "1"
      ]
     },
     "execution_count": 7,
     "metadata": {},
     "output_type": "execute_result"
    }
   ],
   "source": [
    "arr.ndim"
   ]
  },
  {
   "cell_type": "code",
   "execution_count": 8,
   "id": "90a2913f",
   "metadata": {},
   "outputs": [
    {
     "name": "stdout",
     "output_type": "stream",
     "text": [
      "[1 2 3 4 5] <class 'numpy.ndarray'>\n"
     ]
    }
   ],
   "source": [
    "tup=(1,2,3,4,5,)\n",
    "arr=np.array(tup)\n",
    "print(arr,type(arr))"
   ]
  },
  {
   "cell_type": "code",
   "execution_count": 17,
   "id": "000bc0e8",
   "metadata": {},
   "outputs": [
    {
     "name": "stdout",
     "output_type": "stream",
     "text": [
      "0d_array : 9\n",
      "shape of array ()\n",
      "array dimentions : 0\n"
     ]
    }
   ],
   "source": [
    "arr_0d=np.array(9)\n",
    "print('0d_array :',arr_0d)\n",
    "print('shape of array',arr_0d.shape)\n",
    "print('array dimentions :',arr_0d.ndim)"
   ]
  },
  {
   "cell_type": "code",
   "execution_count": 27,
   "id": "3503ac9d",
   "metadata": {},
   "outputs": [
    {
     "name": "stdout",
     "output_type": "stream",
     "text": [
      "1d_array : [1 2 3 4 5 6 7 8 9]\n",
      "shape of array (9,)\n",
      "array dimentions : 1\n"
     ]
    }
   ],
   "source": [
    "arr_1d=np.array([1,2,3,4,5,6,7,8,9])\n",
    "print('1d_array :',arr_1d)\n",
    "print('shape of array',arr_1d.shape)\n",
    "print('array dimentions :',arr_1d.ndim)"
   ]
  },
  {
   "cell_type": "code",
   "execution_count": 33,
   "id": "7ee2b6c7",
   "metadata": {},
   "outputs": [
    {
     "name": "stdout",
     "output_type": "stream",
     "text": [
      "2d_array :\n",
      " [[ 1  2  3]\n",
      " [11 22 33]\n",
      " [ 4 44 55]\n",
      " [ 5  6  7]]\n",
      "shape of array (4, 3)\n",
      "array dimentions : 2\n"
     ]
    }
   ],
   "source": [
    "arr_2d=np.array([[1,2,3],[11,22,33],[4,44,55],[5,6,7]])\n",
    "print('2d_array :\\n',arr_2d)\n",
    "print('shape of array',arr_2d.shape)\n",
    "print('array dimentions :',arr_2d.ndim)"
   ]
  },
  {
   "cell_type": "code",
   "execution_count": 63,
   "id": "4f311f7d",
   "metadata": {},
   "outputs": [
    {
     "name": "stdout",
     "output_type": "stream",
     "text": [
      "3d_array :\n",
      " [[[  1   2  11]\n",
      "  [  3   4  22]]\n",
      "\n",
      " [[  5   6  33]\n",
      "  [  7   8  44]]\n",
      "\n",
      " [[ 55  66  77]\n",
      "  [ 88  99 100]]]\n",
      "shape of array (3, 2, 3)\n",
      "array dimentions : 3\n"
     ]
    }
   ],
   "source": [
    "arr_3d=np.array([[[1,2,11],[3,4,22]],[[5,6,33],[7,8,44]],[[55,66,77],[88,99,100]]])\n",
    "print('3d_array :\\n',arr_3d)\n",
    "print('shape of array',arr_3d.shape)\n",
    "print('array dimentions :',arr_3d.ndim)"
   ]
  },
  {
   "cell_type": "code",
   "execution_count": 35,
   "id": "e19b1059",
   "metadata": {},
   "outputs": [
    {
     "data": {
      "text/plain": [
       "array([[ 1,  2,  3],\n",
       "       [11, 22, 33],\n",
       "       [ 4, 44, 55],\n",
       "       [ 5,  6,  7]])"
      ]
     },
     "execution_count": 35,
     "metadata": {},
     "output_type": "execute_result"
    }
   ],
   "source": [
    "arr_2d"
   ]
  },
  {
   "cell_type": "code",
   "execution_count": 44,
   "id": "f9fe814b",
   "metadata": {},
   "outputs": [
    {
     "data": {
      "text/plain": [
       "7"
      ]
     },
     "execution_count": 44,
     "metadata": {},
     "output_type": "execute_result"
    }
   ],
   "source": [
    "arr_2d[3,2]"
   ]
  },
  {
   "cell_type": "code",
   "execution_count": 40,
   "id": "0f45895c",
   "metadata": {},
   "outputs": [
    {
     "data": {
      "text/plain": [
       "7"
      ]
     },
     "execution_count": 40,
     "metadata": {},
     "output_type": "execute_result"
    }
   ],
   "source": [
    "arr_2d[3][2]"
   ]
  },
  {
   "cell_type": "code",
   "execution_count": 45,
   "id": "686ae907",
   "metadata": {},
   "outputs": [
    {
     "data": {
      "text/plain": [
       "array([[ 2],\n",
       "       [22],\n",
       "       [44],\n",
       "       [ 6]])"
      ]
     },
     "execution_count": 45,
     "metadata": {},
     "output_type": "execute_result"
    }
   ],
   "source": [
    "arr_2d[0:5,1:2]"
   ]
  },
  {
   "cell_type": "code",
   "execution_count": 60,
   "id": "dc0f3470",
   "metadata": {},
   "outputs": [
    {
     "data": {
      "text/plain": [
       "array([[ 1,  2,  3],\n",
       "       [11, 22, 33],\n",
       "       [ 4, 44, 55],\n",
       "       [ 5,  6,  7]])"
      ]
     },
     "execution_count": 60,
     "metadata": {},
     "output_type": "execute_result"
    }
   ],
   "source": [
    "arr_2d"
   ]
  },
  {
   "cell_type": "code",
   "execution_count": 61,
   "id": "0f01018a",
   "metadata": {},
   "outputs": [
    {
     "name": "stdout",
     "output_type": "stream",
     "text": [
      "1 22 55 6\n"
     ]
    }
   ],
   "source": [
    "# i need output 1,22,55,6\n",
    "\n",
    "print(arr_2d[0][0],arr_2d[1][1],arr_2d[2][2],arr_2d[3][1])"
   ]
  },
  {
   "cell_type": "code",
   "execution_count": 64,
   "id": "433b511c",
   "metadata": {},
   "outputs": [
    {
     "data": {
      "text/plain": [
       "array([[[  1,   2,  11],\n",
       "        [  3,   4,  22]],\n",
       "\n",
       "       [[  5,   6,  33],\n",
       "        [  7,   8,  44]],\n",
       "\n",
       "       [[ 55,  66,  77],\n",
       "        [ 88,  99, 100]]])"
      ]
     },
     "execution_count": 64,
     "metadata": {},
     "output_type": "execute_result"
    }
   ],
   "source": [
    "arr_3d"
   ]
  },
  {
   "cell_type": "code",
   "execution_count": 65,
   "id": "6c7392fc",
   "metadata": {},
   "outputs": [
    {
     "data": {
      "text/plain": [
       "44"
      ]
     },
     "execution_count": 65,
     "metadata": {},
     "output_type": "execute_result"
    }
   ],
   "source": [
    "arr_3d[1][1][2]"
   ]
  },
  {
   "cell_type": "code",
   "execution_count": 66,
   "id": "2d895a28",
   "metadata": {},
   "outputs": [
    {
     "data": {
      "text/plain": [
       "77"
      ]
     },
     "execution_count": 66,
     "metadata": {},
     "output_type": "execute_result"
    }
   ],
   "source": [
    "arr_3d[2,0,2]"
   ]
  },
  {
   "cell_type": "code",
   "execution_count": 87,
   "id": "4fa3e640",
   "metadata": {},
   "outputs": [
    {
     "data": {
      "text/plain": [
       "(array([[[[[[[[[[[[[[[[[[[[[[[[[[[[[[[[1, 2,\n",
       "                                       3, 4,\n",
       "                                       5]]]]]]]]]]]]]]]]]]]]]]]]]]]]]]]]),\n",
       " 32)"
      ]
     },
     "execution_count": 87,
     "metadata": {},
     "output_type": "execute_result"
    }
   ],
   "source": [
    "# n dimentional array creation\n",
    "\n",
    "arr=np.array([1,2,3,4,5],ndmin=32)\n",
    "arr,arr.ndim\n"
   ]
  },
  {
   "cell_type": "code",
   "execution_count": 92,
   "id": "9e7677f3",
   "metadata": {},
   "outputs": [
    {
     "data": {
      "text/plain": [
       "(array([[[[[[[[[[[[[[[[[[[[[[[[[[[[[[[[1, 2]]]]]]]]]]]]]]]]]]]]]]]]]]]]]]]]),\n",
       " 32)"
      ]
     },
     "execution_count": 92,
     "metadata": {},
     "output_type": "execute_result"
    }
   ],
   "source": [
    "arr=np.array([[[[[[1,2]]]]]],ndmin=32)\n",
    "arr,arr.ndim"
   ]
  },
  {
   "cell_type": "code",
   "execution_count": 94,
   "id": "30de3a4c",
   "metadata": {},
   "outputs": [
    {
     "data": {
      "text/plain": [
       "(array([[[  1,   2,  11],\n",
       "         [  3,   4,  22]],\n",
       " \n",
       "        [[  5,   6,  33],\n",
       "         [  7,   8,  44]],\n",
       " \n",
       "        [[ 55,  66,  77],\n",
       "         [ 88,  99, 100]]]),\n",
       " 3)"
      ]
     },
     "execution_count": 94,
     "metadata": {},
     "output_type": "execute_result"
    }
   ],
   "source": [
    "arr_3d,arr_3d.ndim"
   ]
  },
  {
   "cell_type": "code",
   "execution_count": 119,
   "id": "449b24a7",
   "metadata": {},
   "outputs": [
    {
     "data": {
      "text/plain": [
       "array([[[ 2],\n",
       "        [ 4]],\n",
       "\n",
       "       [[ 6],\n",
       "        [ 8]],\n",
       "\n",
       "       [[66],\n",
       "        [99]]])"
      ]
     },
     "execution_count": 119,
     "metadata": {},
     "output_type": "execute_result"
    }
   ],
   "source": [
    "# need answer 2,4 6,8 66,99\n",
    "\n",
    "arr_3d[0:3,0:,1:2]"
   ]
  },
  {
   "cell_type": "code",
   "execution_count": 122,
   "id": "4ababdf9",
   "metadata": {},
   "outputs": [
    {
     "data": {
      "text/plain": [
       "array([[[ 1],\n",
       "        [ 3]],\n",
       "\n",
       "       [[ 5],\n",
       "        [ 7]],\n",
       "\n",
       "       [[55],\n",
       "        [88]]])"
      ]
     },
     "execution_count": 122,
     "metadata": {},
     "output_type": "execute_result"
    }
   ],
   "source": [
    "# 1,3 5,7 55,88\n",
    "\n",
    "arr_3d[0:3,:,0:1] # [group of 2d array, rows, column]"
   ]
  },
  {
   "cell_type": "code",
   "execution_count": 120,
   "id": "4f3201ba",
   "metadata": {},
   "outputs": [
    {
     "data": {
      "text/plain": [
       "array([[[ 11],\n",
       "        [ 22]],\n",
       "\n",
       "       [[ 33],\n",
       "        [ 44]],\n",
       "\n",
       "       [[ 77],\n",
       "        [100]]])"
      ]
     },
     "execution_count": 120,
     "metadata": {},
     "output_type": "execute_result"
    }
   ],
   "source": [
    "arr_3d[0:3,0:2,2:]"
   ]
  },
  {
   "cell_type": "markdown",
   "id": "e12d2369",
   "metadata": {},
   "source": [
    "data types in numpy array\n",
    "\n",
    "    i/int- integer\n",
    "    bool - boolean\n",
    "    uint - unsigned integer\n",
    "    float - float\n",
    "    complex - complex float   \n",
    "    string - string  \n",
    "    M - datetime\n",
    "    m - timedelta     \n",
    "    O - object   \n",
    "    U - unicode string"
   ]
  },
  {
   "cell_type": "code",
   "execution_count": 145,
   "id": "7d55caba",
   "metadata": {},
   "outputs": [
    {
     "data": {
      "text/plain": [
       "(array([1.1, 1.2, 1.3, 1.4], dtype=float32), dtype('float32'))"
      ]
     },
     "execution_count": 145,
     "metadata": {},
     "output_type": "execute_result"
    }
   ],
   "source": [
    "import datetime as dt\n",
    "array1=np.array([1.1, 1.2, 1.3, 1.4],dtype='f')\n",
    "array1,array1.dtype"
   ]
  },
  {
   "cell_type": "code",
   "execution_count": 153,
   "id": "e7762365",
   "metadata": {},
   "outputs": [
    {
     "data": {
      "text/plain": [
       "array([1.100000023841858, 1.2000000476837158, 1.2999999523162842,\n",
       "       1.399999976158142], dtype=object)"
      ]
     },
     "execution_count": 153,
     "metadata": {},
     "output_type": "execute_result"
    }
   ],
   "source": [
    "carray=array1.astype('O')\n",
    "carray"
   ]
  },
  {
   "cell_type": "code",
   "execution_count": 155,
   "id": "1e230bc0",
   "metadata": {},
   "outputs": [
    {
     "name": "stdout",
     "output_type": "stream",
     "text": [
      "original array : [1 2 3 4 5]\n",
      "copied array : [1 2 3 4 5]\n",
      "now we will update the original arrray \"1 to 100\"\n",
      "original array after update : [100   2   3   4   5]\n",
      "copied array after update in original : [1 2 3 4 5]\n"
     ]
    }
   ],
   "source": [
    "a=np.array([1,2,3,4,5])\n",
    "print('original array :',a)\n",
    "b=a.copy()\n",
    "print('copied array :',b)\n",
    "print('now we will update the original arrray \"1 to 100\"')\n",
    "a[0]=100\n",
    "\n",
    "print('original array after update :',a)\n",
    "print('copied array after update in original :',b)"
   ]
  },
  {
   "cell_type": "code",
   "execution_count": 156,
   "id": "ce98f5da",
   "metadata": {},
   "outputs": [
    {
     "name": "stdout",
     "output_type": "stream",
     "text": [
      "original array : [1 2 3 4 5]\n",
      "copied array : [1 2 3 4 5]\n",
      "now we will update the original arrray \"1 to 100\"\n",
      "original array after update : [100   2   3   4   5]\n",
      "copied array after update in original : [100   2   3   4   5]\n"
     ]
    }
   ],
   "source": [
    "a=np.array([1,2,3,4,5])\n",
    "print('original array :',a)\n",
    "b=a.view()\n",
    "print('copied array :',b)\n",
    "print('now we will update the original arrray \"1 to 100\"')\n",
    "a[0]=100\n",
    "\n",
    "print('original array after update :',a)\n",
    "print('copied array after update in original :',b)"
   ]
  },
  {
   "cell_type": "code",
   "execution_count": 159,
   "id": "31ca1c8c",
   "metadata": {},
   "outputs": [
    {
     "name": "stdout",
     "output_type": "stream",
     "text": [
      "None\n",
      "[1 2 3 4]\n",
      "None\n"
     ]
    }
   ],
   "source": [
    "arr=np.array([1,2,3,4])\n",
    "x=arr.copy()\n",
    "y=arr.view()\n",
    "\n",
    "print(x.base)\n",
    "print(y.base)\n",
    "print(arr.base)"
   ]
  },
  {
   "cell_type": "code",
   "execution_count": 160,
   "id": "6cf75dae",
   "metadata": {},
   "outputs": [
    {
     "data": {
      "text/plain": [
       "(array([[[ 1,  2,  3],\n",
       "         [11, 22, 33]],\n",
       " \n",
       "        [[ 4,  5,  6],\n",
       "         [44, 55, 66]]]),\n",
       " 3)"
      ]
     },
     "execution_count": 160,
     "metadata": {},
     "output_type": "execute_result"
    }
   ],
   "source": [
    "array=np.array([[[1,2,3],[11,22,33]],[[4,5,6],[44,55,66]]])\n",
    "array,array.ndim"
   ]
  },
  {
   "cell_type": "code",
   "execution_count": 161,
   "id": "6be07643",
   "metadata": {},
   "outputs": [
    {
     "data": {
      "text/plain": [
       "(array([[[[[ 1,  2,  3],\n",
       "           [11, 22, 33]],\n",
       " \n",
       "          [[ 4,  5,  6],\n",
       "           [44, 55, 66]]]]]),\n",
       " 5)"
      ]
     },
     "execution_count": 161,
     "metadata": {},
     "output_type": "execute_result"
    }
   ],
   "source": [
    "array=np.array([[[1,2,3],[11,22,33]],\n",
    "                [[4,5,6],[44,55,66]]],ndmin=5)\n",
    "array,array.ndim"
   ]
  },
  {
   "cell_type": "code",
   "execution_count": 162,
   "id": "73bdf178",
   "metadata": {},
   "outputs": [
    {
     "data": {
      "text/plain": [
       "(array([[[ 1,  2,  3],\n",
       "         [11, 22, 33]],\n",
       " \n",
       "        [[ 4,  5,  6],\n",
       "         [44, 55, 66]]]),\n",
       " 3)"
      ]
     },
     "execution_count": 162,
     "metadata": {},
     "output_type": "execute_result"
    }
   ],
   "source": [
    "array=np.array([[[1,2,3],[11,22,33]],\n",
    "                [[4,5,6],[44,55,66]]],ndmin=2)\n",
    "array,array.ndim"
   ]
  },
  {
   "cell_type": "code",
   "execution_count": 165,
   "id": "2bd0245b",
   "metadata": {},
   "outputs": [
    {
     "data": {
      "text/plain": [
       "(array([[ 1,  2,  3],\n",
       "        [11, 22, 33],\n",
       "        [ 4,  5,  6],\n",
       "        [44, 55, 66]]),\n",
       " 2)"
      ]
     },
     "execution_count": 165,
     "metadata": {},
     "output_type": "execute_result"
    }
   ],
   "source": [
    "newarray=array.reshape(4,3) # 2d array\n",
    "newarray,newarray.ndim"
   ]
  },
  {
   "cell_type": "code",
   "execution_count": 169,
   "id": "d0c3dcfe",
   "metadata": {},
   "outputs": [
    {
     "data": {
      "text/plain": [
       "(array([ 1,  2,  3,  4, 56,  7,  8,  9]), (8,))"
      ]
     },
     "execution_count": 169,
     "metadata": {},
     "output_type": "execute_result"
    }
   ],
   "source": [
    "arr=np.array([1,2,3,4,56,7,8,9])\n",
    "newarr=arr.reshape(-1)\n",
    "newarr,newarr.shape"
   ]
  },
  {
   "cell_type": "code",
   "execution_count": 170,
   "id": "52aa210c",
   "metadata": {},
   "outputs": [
    {
     "name": "stdout",
     "output_type": "stream",
     "text": [
      "[1 2 3]\n",
      "[11 22 33]\n",
      "[4 5 6]\n",
      "[44 55 66]\n"
     ]
    }
   ],
   "source": [
    "for i in newarray:\n",
    "    print(i)"
   ]
  },
  {
   "cell_type": "code",
   "execution_count": 171,
   "id": "65986dda",
   "metadata": {},
   "outputs": [
    {
     "name": "stdout",
     "output_type": "stream",
     "text": [
      "1\n",
      "2\n",
      "3\n",
      "11\n",
      "22\n",
      "33\n",
      "4\n",
      "5\n",
      "6\n",
      "44\n",
      "55\n",
      "66\n"
     ]
    }
   ],
   "source": [
    "for i in newarray:\n",
    "    for j in i:\n",
    "        print(j)"
   ]
  },
  {
   "cell_type": "code",
   "execution_count": 172,
   "id": "3bfaef27",
   "metadata": {},
   "outputs": [
    {
     "data": {
      "text/plain": [
       "array([[ 1,  2,  3],\n",
       "       [11, 22, 33],\n",
       "       [ 4, 44, 55],\n",
       "       [ 5,  6,  7]])"
      ]
     },
     "execution_count": 172,
     "metadata": {},
     "output_type": "execute_result"
    }
   ],
   "source": [
    "arr_2d"
   ]
  },
  {
   "cell_type": "code",
   "execution_count": 173,
   "id": "fc96dfeb",
   "metadata": {},
   "outputs": [
    {
     "name": "stdout",
     "output_type": "stream",
     "text": [
      "[1 2 3]\n",
      "[11 22 33]\n",
      "[ 4 44 55]\n",
      "[5 6 7]\n"
     ]
    }
   ],
   "source": [
    "# array printing\n",
    "for i in arr_2d:\n",
    "    print(i)"
   ]
  },
  {
   "cell_type": "code",
   "execution_count": 174,
   "id": "b0be090a",
   "metadata": {},
   "outputs": [
    {
     "name": "stdout",
     "output_type": "stream",
     "text": [
      "1\n",
      "2\n",
      "3\n",
      "11\n",
      "22\n",
      "33\n",
      "4\n",
      "44\n",
      "55\n",
      "5\n",
      "6\n",
      "7\n"
     ]
    }
   ],
   "source": [
    "# element printing\n",
    "for i in arr_2d:\n",
    "    for j in i:\n",
    "        print(j)"
   ]
  },
  {
   "cell_type": "code",
   "execution_count": 175,
   "id": "7d1ef7d0",
   "metadata": {},
   "outputs": [
    {
     "data": {
      "text/plain": [
       "array([[[  1,   2,  11],\n",
       "        [  3,   4,  22]],\n",
       "\n",
       "       [[  5,   6,  33],\n",
       "        [  7,   8,  44]],\n",
       "\n",
       "       [[ 55,  66,  77],\n",
       "        [ 88,  99, 100]]])"
      ]
     },
     "execution_count": 175,
     "metadata": {},
     "output_type": "execute_result"
    }
   ],
   "source": [
    "arr_3d"
   ]
  },
  {
   "cell_type": "code",
   "execution_count": 176,
   "id": "49130c2b",
   "metadata": {},
   "outputs": [
    {
     "name": "stdout",
     "output_type": "stream",
     "text": [
      "[[ 1  2 11]\n",
      " [ 3  4 22]]\n",
      "[[ 5  6 33]\n",
      " [ 7  8 44]]\n",
      "[[ 55  66  77]\n",
      " [ 88  99 100]]\n"
     ]
    }
   ],
   "source": [
    "for i in arr_3d:\n",
    "    print(i)"
   ]
  },
  {
   "cell_type": "code",
   "execution_count": 177,
   "id": "730ca9c1",
   "metadata": {},
   "outputs": [
    {
     "name": "stdout",
     "output_type": "stream",
     "text": [
      "1\n",
      "2\n",
      "11\n",
      "3\n",
      "4\n",
      "22\n",
      "5\n",
      "6\n",
      "33\n",
      "7\n",
      "8\n",
      "44\n",
      "55\n",
      "66\n",
      "77\n",
      "88\n",
      "99\n",
      "100\n"
     ]
    }
   ],
   "source": [
    "for i in arr_3d:\n",
    "    for j in i:\n",
    "        for k in j:\n",
    "            print(k)"
   ]
  },
  {
   "cell_type": "code",
   "execution_count": 182,
   "id": "c3451585",
   "metadata": {},
   "outputs": [
    {
     "name": "stdout",
     "output_type": "stream",
     "text": [
      "int to float 1.0\n",
      "int to float 2.0\n",
      "int to float 3.0\n"
     ]
    }
   ],
   "source": [
    "arr=np.nditer([1,2,3])\n",
    "\n",
    "for i in np.nditer(arr, flags=['buffered'],op_dtypes=float):\n",
    "    print('int to float',i)"
   ]
  },
  {
   "cell_type": "code",
   "execution_count": 189,
   "id": "ddab7385",
   "metadata": {},
   "outputs": [
    {
     "name": "stdout",
     "output_type": "stream",
     "text": [
      "1\n",
      "4\n",
      "5\n",
      "8\n"
     ]
    }
   ],
   "source": [
    "arr=np.array([[1,2,3,4],[5,6,7,8]])\n",
    "\n",
    "for i in np.nditer(arr[:,0:4:3]):\n",
    "    print(i)"
   ]
  },
  {
   "cell_type": "code",
   "execution_count": 190,
   "id": "9456297c",
   "metadata": {},
   "outputs": [
    {
     "name": "stdout",
     "output_type": "stream",
     "text": [
      "55\n"
     ]
    }
   ],
   "source": [
    "arr=np.array([[[1,2,3],[11,22,33]],[[4,5,6],[44,55,66]]])\n",
    "\n",
    "for i in np.nditer(arr[1:,1:,1:2]):\n",
    "    print(i)"
   ]
  },
  {
   "cell_type": "code",
   "execution_count": 191,
   "id": "69417501",
   "metadata": {},
   "outputs": [
    {
     "name": "stdout",
     "output_type": "stream",
     "text": [
      "1\n",
      "11\n",
      "4\n",
      "44\n"
     ]
    }
   ],
   "source": [
    "for i in np.nditer(arr[:,:,0:1]):\n",
    "    print(i)"
   ]
  },
  {
   "cell_type": "code",
   "execution_count": 192,
   "id": "0f3f328a",
   "metadata": {},
   "outputs": [
    {
     "name": "stdout",
     "output_type": "stream",
     "text": [
      "((0, 0, 0), 55)\n"
     ]
    }
   ],
   "source": [
    "arr=np.array([[[1,2,3],[11,22,33]],[[4,5,6],[44,55,66]]])\n",
    "\n",
    "for i in np.ndenumerate(arr[1:,1:,1:2]):\n",
    "    print(i)"
   ]
  },
  {
   "cell_type": "code",
   "execution_count": 193,
   "id": "0a38176c",
   "metadata": {},
   "outputs": [
    {
     "name": "stdout",
     "output_type": "stream",
     "text": [
      "((0, 0), 1)\n",
      "((0, 1), 2)\n",
      "((0, 2), 3)\n",
      "((0, 3), 4)\n",
      "((1, 0), 5)\n",
      "((1, 1), 6)\n",
      "((1, 2), 7)\n",
      "((1, 3), 8)\n"
     ]
    }
   ],
   "source": [
    "arr=np.array([[1,2,3,4],[5,6,7,8]])\n",
    "\n",
    "for i in np.ndenumerate(arr):\n",
    "    print(i)"
   ]
  },
  {
   "cell_type": "code",
   "execution_count": 194,
   "id": "6a811888",
   "metadata": {},
   "outputs": [
    {
     "name": "stdout",
     "output_type": "stream",
     "text": [
      "[ 1  2  3 11 22 33]\n"
     ]
    }
   ],
   "source": [
    "arr1=np.array([1,2,3])\n",
    "arr2=np.array([11,22,33])\n",
    "\n",
    "newarr=np.concatenate((arr1,arr2),axis=0)\n",
    "print(newarr)"
   ]
  },
  {
   "cell_type": "code",
   "execution_count": 196,
   "id": "412ea8aa",
   "metadata": {},
   "outputs": [
    {
     "name": "stdout",
     "output_type": "stream",
     "text": [
      "[[1 2 5 6]\n",
      " [3 4 7 8]]\n"
     ]
    }
   ],
   "source": [
    "arr1 = np.array([[1, 2], [3, 4]])\n",
    "arr2 = np.array([[5,6 ], [7, 8]])\n",
    "\n",
    "newarr=np.concatenate((arr1,arr2),axis=1)\n",
    "print(newarr)"
   ]
  },
  {
   "cell_type": "code",
   "execution_count": 197,
   "id": "685e5bd5",
   "metadata": {},
   "outputs": [
    {
     "name": "stdout",
     "output_type": "stream",
     "text": [
      "[[1 2 3]\n",
      " [4 5 6]]\n"
     ]
    }
   ],
   "source": [
    "arr1 = np.array([2, 3, 4])\n",
    "arr2 = np.array([5, 6, 7])\n",
    "\n",
    "arr = np.dot((arr1, arr2))\n",
    "print(arr)"
   ]
  },
  {
   "cell_type": "code",
   "execution_count": 201,
   "id": "1aff0ef1",
   "metadata": {},
   "outputs": [
    {
     "data": {
      "text/plain": [
       "array([[37, 15],\n",
       "       [92, 32]])"
      ]
     },
     "execution_count": 201,
     "metadata": {},
     "output_type": "execute_result"
    }
   ],
   "source": [
    "arr1 = np.array([[2, 3],[4,8]])\n",
    "arr2 = np.array([[5, 6],[9,1]])\n",
    "\n",
    "arr1.dot(arr2)"
   ]
  },
  {
   "cell_type": "markdown",
   "id": "c796f4c5",
   "metadata": {},
   "source": [
    "2 3\n",
    "4 8\n",
    "\n",
    "5 6 \n",
    "9 1\n",
    "\n",
    "\n",
    "2*5+3*9  2*6+3*1\n",
    "\n",
    "4*5+8*9  4*6+8*1  \n",
    "\n"
   ]
  },
  {
   "cell_type": "code",
   "execution_count": 211,
   "id": "8d38ef03",
   "metadata": {},
   "outputs": [
    {
     "data": {
      "text/plain": [
       "37"
      ]
     },
     "execution_count": 211,
     "metadata": {},
     "output_type": "execute_result"
    }
   ],
   "source": [
    "2*5+3*9"
   ]
  },
  {
   "cell_type": "code",
   "execution_count": 207,
   "id": "98868b66",
   "metadata": {},
   "outputs": [
    {
     "data": {
      "text/plain": [
       "15"
      ]
     },
     "execution_count": 207,
     "metadata": {},
     "output_type": "execute_result"
    }
   ],
   "source": [
    "2*6+3*1"
   ]
  },
  {
   "cell_type": "code",
   "execution_count": 208,
   "id": "3240372f",
   "metadata": {},
   "outputs": [
    {
     "data": {
      "text/plain": [
       "92"
      ]
     },
     "execution_count": 208,
     "metadata": {},
     "output_type": "execute_result"
    }
   ],
   "source": [
    "4*5+8*9"
   ]
  },
  {
   "cell_type": "code",
   "execution_count": 209,
   "id": "44f70213",
   "metadata": {},
   "outputs": [
    {
     "data": {
      "text/plain": [
       "32"
      ]
     },
     "execution_count": 209,
     "metadata": {},
     "output_type": "execute_result"
    }
   ],
   "source": [
    "4*6+8*1"
   ]
  },
  {
   "cell_type": "code",
   "execution_count": null,
   "id": "8904cfba",
   "metadata": {},
   "outputs": [],
   "source": []
  }
 ],
 "metadata": {
  "kernelspec": {
   "display_name": "Python 3 (ipykernel)",
   "language": "python",
   "name": "python3"
  },
  "language_info": {
   "codemirror_mode": {
    "name": "ipython",
    "version": 3
   },
   "file_extension": ".py",
   "mimetype": "text/x-python",
   "name": "python",
   "nbconvert_exporter": "python",
   "pygments_lexer": "ipython3",
   "version": "3.11.3"
  }
 },
 "nbformat": 4,
 "nbformat_minor": 5
}
