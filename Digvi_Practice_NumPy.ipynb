{
 "cells": [
  {
   "cell_type": "code",
   "execution_count": 1,
   "id": "6eb6defd",
   "metadata": {},
   "outputs": [],
   "source": [
    "import numpy as np"
   ]
  },
  {
   "cell_type": "code",
   "execution_count": 2,
   "id": "b30ad311",
   "metadata": {},
   "outputs": [
    {
     "data": {
      "text/plain": [
       "'1.24.2'"
      ]
     },
     "execution_count": 2,
     "metadata": {},
     "output_type": "execute_result"
    }
   ],
   "source": [
    "np.__version__"
   ]
  },
  {
   "cell_type": "code",
   "execution_count": 3,
   "id": "a10c5434",
   "metadata": {},
   "outputs": [
    {
     "name": "stdout",
     "output_type": "stream",
     "text": [
      "[ 1  2 34  5] <class 'numpy.ndarray'>\n"
     ]
    }
   ],
   "source": [
    "arr=np.array([1,2,34,5])\n",
    "print(arr,type(arr))"
   ]
  },
  {
   "cell_type": "code",
   "execution_count": 6,
   "id": "571427f2",
   "metadata": {},
   "outputs": [
    {
     "data": {
      "text/plain": [
       "2"
      ]
     },
     "execution_count": 6,
     "metadata": {},
     "output_type": "execute_result"
    }
   ],
   "source": [
    "arr[1]"
   ]
  },
  {
   "cell_type": "code",
   "execution_count": 7,
   "id": "ece7fc01",
   "metadata": {},
   "outputs": [
    {
     "data": {
      "text/plain": [
       "1"
      ]
     },
     "execution_count": 7,
     "metadata": {},
     "output_type": "execute_result"
    }
   ],
   "source": [
    "arr.ndim"
   ]
  },
  {
   "cell_type": "code",
   "execution_count": 8,
   "id": "90a2913f",
   "metadata": {},
   "outputs": [
    {
     "name": "stdout",
     "output_type": "stream",
     "text": [
      "[1 2 3 4 5] <class 'numpy.ndarray'>\n"
     ]
    }
   ],
   "source": [
    "tup=(1,2,3,4,5,)\n",
    "arr=np.array(tup)\n",
    "print(arr,type(arr))"
   ]
  },
  {
   "cell_type": "code",
   "execution_count": 17,
   "id": "000bc0e8",
   "metadata": {},
   "outputs": [
    {
     "name": "stdout",
     "output_type": "stream",
     "text": [
      "0d_array : 9\n",
      "shape of array ()\n",
      "array dimentions : 0\n"
     ]
    }
   ],
   "source": [
    "arr_0d=np.array(9)\n",
    "print('0d_array :',arr_0d)\n",
    "print('shape of array',arr_0d.shape)\n",
    "print('array dimentions :',arr_0d.ndim)"
   ]
  },
  {
   "cell_type": "code",
   "execution_count": 27,
   "id": "3503ac9d",
   "metadata": {},
   "outputs": [
    {
     "name": "stdout",
     "output_type": "stream",
     "text": [
      "1d_array : [1 2 3 4 5 6 7 8 9]\n",
      "shape of array (9,)\n",
      "array dimentions : 1\n"
     ]
    }
   ],
   "source": [
    "arr_1d=np.array([1,2,3,4,5,6,7,8,9])\n",
    "print('1d_array :',arr_1d)\n",
    "print('shape of array',arr_1d.shape)\n",
    "print('array dimentions :',arr_1d.ndim)"
   ]
  },
  {
   "cell_type": "code",
   "execution_count": 33,
   "id": "7ee2b6c7",
   "metadata": {},
   "outputs": [
    {
     "name": "stdout",
     "output_type": "stream",
     "text": [
      "2d_array :\n",
      " [[ 1  2  3]\n",
      " [11 22 33]\n",
      " [ 4 44 55]\n",
      " [ 5  6  7]]\n",
      "shape of array (4, 3)\n",
      "array dimentions : 2\n"
     ]
    }
   ],
   "source": [
    "arr_2d=np.array([[1,2,3],[11,22,33],[4,44,55],[5,6,7]])\n",
    "print('2d_array :\\n',arr_2d)\n",
    "print('shape of array',arr_2d.shape)\n",
    "print('array dimentions :',arr_2d.ndim)"
   ]
  },
  {
   "cell_type": "code",
   "execution_count": 63,
   "id": "4f311f7d",
   "metadata": {},
   "outputs": [
    {
     "name": "stdout",
     "output_type": "stream",
     "text": [
      "3d_array :\n",
      " [[[  1   2  11]\n",
      "  [  3   4  22]]\n",
      "\n",
      " [[  5   6  33]\n",
      "  [  7   8  44]]\n",
      "\n",
      " [[ 55  66  77]\n",
      "  [ 88  99 100]]]\n",
      "shape of array (3, 2, 3)\n",
      "array dimentions : 3\n"
     ]
    }
   ],
   "source": [
    "arr_3d=np.array([[[1,2,11],[3,4,22]],[[5,6,33],[7,8,44]],[[55,66,77],[88,99,100]]])\n",
    "print('3d_array :\\n',arr_3d)\n",
    "print('shape of array',arr_3d.shape)\n",
    "print('array dimentions :',arr_3d.ndim)"
   ]
  },
  {
   "cell_type": "code",
   "execution_count": 35,
   "id": "e19b1059",
   "metadata": {},
   "outputs": [
    {
     "data": {
      "text/plain": [
       "array([[ 1,  2,  3],\n",
       "       [11, 22, 33],\n",
       "       [ 4, 44, 55],\n",
       "       [ 5,  6,  7]])"
      ]
     },
     "execution_count": 35,
     "metadata": {},
     "output_type": "execute_result"
    }
   ],
   "source": [
    "arr_2d"
   ]
  },
  {
   "cell_type": "code",
   "execution_count": 44,
   "id": "f9fe814b",
   "metadata": {},
   "outputs": [
    {
     "data": {
      "text/plain": [
       "7"
      ]
     },
     "execution_count": 44,
     "metadata": {},
     "output_type": "execute_result"
    }
   ],
   "source": [
    "arr_2d[3,2]"
   ]
  },
  {
   "cell_type": "code",
   "execution_count": 40,
   "id": "0f45895c",
   "metadata": {},
   "outputs": [
    {
     "data": {
      "text/plain": [
       "7"
      ]
     },
     "execution_count": 40,
     "metadata": {},
     "output_type": "execute_result"
    }
   ],
   "source": [
    "arr_2d[3][2]"
   ]
  },
  {
   "cell_type": "code",
   "execution_count": 45,
   "id": "686ae907",
   "metadata": {},
   "outputs": [
    {
     "data": {
      "text/plain": [
       "array([[ 2],\n",
       "       [22],\n",
       "       [44],\n",
       "       [ 6]])"
      ]
     },
     "execution_count": 45,
     "metadata": {},
     "output_type": "execute_result"
    }
   ],
   "source": [
    "arr_2d[0:5,1:2]"
   ]
  },
  {
   "cell_type": "code",
   "execution_count": 60,
   "id": "dc0f3470",
   "metadata": {},
   "outputs": [
    {
     "data": {
      "text/plain": [
       "array([[ 1,  2,  3],\n",
       "       [11, 22, 33],\n",
       "       [ 4, 44, 55],\n",
       "       [ 5,  6,  7]])"
      ]
     },
     "execution_count": 60,
     "metadata": {},
     "output_type": "execute_result"
    }
   ],
   "source": [
    "arr_2d"
   ]
  },
  {
   "cell_type": "code",
   "execution_count": 61,
   "id": "0f01018a",
   "metadata": {},
   "outputs": [
    {
     "name": "stdout",
     "output_type": "stream",
     "text": [
      "1 22 55 6\n"
     ]
    }
   ],
   "source": [
    "# i need output 1,22,55,6\n",
    "\n",
    "print(arr_2d[0][0],arr_2d[1][1],arr_2d[2][2],arr_2d[3][1])"
   ]
  },
  {
   "cell_type": "code",
   "execution_count": 64,
   "id": "433b511c",
   "metadata": {},
   "outputs": [
    {
     "data": {
      "text/plain": [
       "array([[[  1,   2,  11],\n",
       "        [  3,   4,  22]],\n",
       "\n",
       "       [[  5,   6,  33],\n",
       "        [  7,   8,  44]],\n",
       "\n",
       "       [[ 55,  66,  77],\n",
       "        [ 88,  99, 100]]])"
      ]
     },
     "execution_count": 64,
     "metadata": {},
     "output_type": "execute_result"
    }
   ],
   "source": [
    "arr_3d"
   ]
  },
  {
   "cell_type": "code",
   "execution_count": 65,
   "id": "6c7392fc",
   "metadata": {},
   "outputs": [
    {
     "data": {
      "text/plain": [
       "44"
      ]
     },
     "execution_count": 65,
     "metadata": {},
     "output_type": "execute_result"
    }
   ],
   "source": [
    "arr_3d[1][1][2]"
   ]
  },
  {
   "cell_type": "code",
   "execution_count": 66,
   "id": "2d895a28",
   "metadata": {},
   "outputs": [
    {
     "data": {
      "text/plain": [
       "77"
      ]
     },
     "execution_count": 66,
     "metadata": {},
     "output_type": "execute_result"
    }
   ],
   "source": [
    "arr_3d[2,0,2]"
   ]
  },
  {
   "cell_type": "code",
   "execution_count": 87,
   "id": "4fa3e640",
   "metadata": {},
   "outputs": [
    {
     "data": {
      "text/plain": [
       "(array([[[[[[[[[[[[[[[[[[[[[[[[[[[[[[[[1, 2,\n",
       "                                       3, 4,\n",
       "                                       5]]]]]]]]]]]]]]]]]]]]]]]]]]]]]]]]),\n",
       " 32)"
      ]
     },
     "execution_count": 87,
     "metadata": {},
     "output_type": "execute_result"
    }
   ],
   "source": [
    "# n dimentional array creation\n",
    "\n",
    "arr=np.array([1,2,3,4,5],ndmin=32)\n",
    "arr,arr.ndim\n"
   ]
  },
  {
   "cell_type": "code",
   "execution_count": 92,
   "id": "9e7677f3",
   "metadata": {},
   "outputs": [
    {
     "data": {
      "text/plain": [
       "(array([[[[[[[[[[[[[[[[[[[[[[[[[[[[[[[[1, 2]]]]]]]]]]]]]]]]]]]]]]]]]]]]]]]]),\n",
       " 32)"
      ]
     },
     "execution_count": 92,
     "metadata": {},
     "output_type": "execute_result"
    }
   ],
   "source": [
    "arr=np.array([[[[[[1,2]]]]]],ndmin=32)\n",
    "arr,arr.ndim"
   ]
  },
  {
   "cell_type": "code",
   "execution_count": 94,
   "id": "30de3a4c",
   "metadata": {},
   "outputs": [
    {
     "data": {
      "text/plain": [
       "(array([[[  1,   2,  11],\n",
       "         [  3,   4,  22]],\n",
       " \n",
       "        [[  5,   6,  33],\n",
       "         [  7,   8,  44]],\n",
       " \n",
       "        [[ 55,  66,  77],\n",
       "         [ 88,  99, 100]]]),\n",
       " 3)"
      ]
     },
     "execution_count": 94,
     "metadata": {},
     "output_type": "execute_result"
    }
   ],
   "source": [
    "arr_3d,arr_3d.ndim"
   ]
  },
  {
   "cell_type": "code",
   "execution_count": 119,
   "id": "449b24a7",
   "metadata": {},
   "outputs": [
    {
     "data": {
      "text/plain": [
       "array([[[ 2],\n",
       "        [ 4]],\n",
       "\n",
       "       [[ 6],\n",
       "        [ 8]],\n",
       "\n",
       "       [[66],\n",
       "        [99]]])"
      ]
     },
     "execution_count": 119,
     "metadata": {},
     "output_type": "execute_result"
    }
   ],
   "source": [
    "# need answer 2,4 6,8 66,99\n",
    "\n",
    "arr_3d[0:3,0:,1:2]"
   ]
  },
  {
   "cell_type": "code",
   "execution_count": 122,
   "id": "4ababdf9",
   "metadata": {},
   "outputs": [
    {
     "data": {
      "text/plain": [
       "array([[[ 1],\n",
       "        [ 3]],\n",
       "\n",
       "       [[ 5],\n",
       "        [ 7]],\n",
       "\n",
       "       [[55],\n",
       "        [88]]])"
      ]
     },
     "execution_count": 122,
     "metadata": {},
     "output_type": "execute_result"
    }
   ],
   "source": [
    "# 1,3 5,7 55,88\n",
    "\n",
    "arr_3d[0:3,:,0:1] # [group of 2d array, rows, column]"
   ]
  },
  {
   "cell_type": "code",
   "execution_count": 120,
   "id": "4f3201ba",
   "metadata": {},
   "outputs": [
    {
     "data": {
      "text/plain": [
       "array([[[ 11],\n",
       "        [ 22]],\n",
       "\n",
       "       [[ 33],\n",
       "        [ 44]],\n",
       "\n",
       "       [[ 77],\n",
       "        [100]]])"
      ]
     },
     "execution_count": 120,
     "metadata": {},
     "output_type": "execute_result"
    }
   ],
   "source": [
    "arr_3d[0:3,0:2,2:]"
   ]
  },
  {
   "cell_type": "markdown",
   "id": "e12d2369",
   "metadata": {},
   "source": [
    "data types in numpy array\n",
    "\n",
    "    i/int- integer\n",
    "    bool - boolean\n",
    "    uint - unsigned integer\n",
    "    float - float\n",
    "    complex - complex float   \n",
    "    string - string  \n",
    "    M - datetime\n",
    "    m - timedelta     \n",
    "    O - object   \n",
    "    U - unicode string"
   ]
  },
  {
   "cell_type": "code",
   "execution_count": 145,
   "id": "7d55caba",
   "metadata": {},
   "outputs": [
    {
     "data": {
      "text/plain": [
       "(array([1.1, 1.2, 1.3, 1.4], dtype=float32), dtype('float32'))"
      ]
     },
     "execution_count": 145,
     "metadata": {},
     "output_type": "execute_result"
    }
   ],
   "source": [
    "import datetime as dt\n",
    "array1=np.array([1.1, 1.2, 1.3, 1.4],dtype='f')\n",
    "array1,array1.dtype"
   ]
  },
  {
   "cell_type": "code",
   "execution_count": 153,
   "id": "e7762365",
   "metadata": {},
   "outputs": [
    {
     "data": {
      "text/plain": [
       "array([1.100000023841858, 1.2000000476837158, 1.2999999523162842,\n",
       "       1.399999976158142], dtype=object)"
      ]
     },
     "execution_count": 153,
     "metadata": {},
     "output_type": "execute_result"
    }
   ],
   "source": [
    "carray=array1.astype('O')\n",
    "carray"
   ]
  },
  {
   "cell_type": "code",
   "execution_count": 155,
   "id": "1e230bc0",
   "metadata": {},
   "outputs": [
    {
     "name": "stdout",
     "output_type": "stream",
     "text": [
      "original array : [1 2 3 4 5]\n",
      "copied array : [1 2 3 4 5]\n",
      "now we will update the original arrray \"1 to 100\"\n",
      "original array after update : [100   2   3   4   5]\n",
      "copied array after update in original : [1 2 3 4 5]\n"
     ]
    }
   ],
   "source": [
    "a=np.array([1,2,3,4,5])\n",
    "print('original array :',a)\n",
    "b=a.copy()\n",
    "print('copied array :',b)\n",
    "print('now we will update the original arrray \"1 to 100\"')\n",
    "a[0]=100\n",
    "\n",
    "print('original array after update :',a)\n",
    "print('copied array after update in original :',b)"
   ]
  },
  {
   "cell_type": "code",
   "execution_count": 156,
   "id": "ce98f5da",
   "metadata": {},
   "outputs": [
    {
     "name": "stdout",
     "output_type": "stream",
     "text": [
      "original array : [1 2 3 4 5]\n",
      "copied array : [1 2 3 4 5]\n",
      "now we will update the original arrray \"1 to 100\"\n",
      "original array after update : [100   2   3   4   5]\n",
      "copied array after update in original : [100   2   3   4   5]\n"
     ]
    }
   ],
   "source": [
    "a=np.array([1,2,3,4,5])\n",
    "print('original array :',a)\n",
    "b=a.view()\n",
    "print('copied array :',b)\n",
    "print('now we will update the original arrray \"1 to 100\"')\n",
    "a[0]=100\n",
    "\n",
    "print('original array after update :',a)\n",
    "print('copied array after update in original :',b)"
   ]
  },
  {
   "cell_type": "code",
   "execution_count": 159,
   "id": "31ca1c8c",
   "metadata": {},
   "outputs": [
    {
     "name": "stdout",
     "output_type": "stream",
     "text": [
      "None\n",
      "[1 2 3 4]\n",
      "None\n"
     ]
    }
   ],
   "source": [
    "arr=np.array([1,2,3,4])\n",
    "x=arr.copy()\n",
    "y=arr.view()\n",
    "\n",
    "print(x.base)\n",
    "print(y.base)\n",
    "print(arr.base)"
   ]
  },
  {
   "cell_type": "code",
   "execution_count": 160,
   "id": "6cf75dae",
   "metadata": {},
   "outputs": [
    {
     "data": {
      "text/plain": [
       "(array([[[ 1,  2,  3],\n",
       "         [11, 22, 33]],\n",
       " \n",
       "        [[ 4,  5,  6],\n",
       "         [44, 55, 66]]]),\n",
       " 3)"
      ]
     },
     "execution_count": 160,
     "metadata": {},
     "output_type": "execute_result"
    }
   ],
   "source": [
    "array=np.array([[[1,2,3],[11,22,33]],[[4,5,6],[44,55,66]]])\n",
    "array,array.ndim"
   ]
  },
  {
   "cell_type": "code",
   "execution_count": 161,
   "id": "6be07643",
   "metadata": {},
   "outputs": [
    {
     "data": {
      "text/plain": [
       "(array([[[[[ 1,  2,  3],\n",
       "           [11, 22, 33]],\n",
       " \n",
       "          [[ 4,  5,  6],\n",
       "           [44, 55, 66]]]]]),\n",
       " 5)"
      ]
     },
     "execution_count": 161,
     "metadata": {},
     "output_type": "execute_result"
    }
   ],
   "source": [
    "array=np.array([[[1,2,3],[11,22,33]],\n",
    "                [[4,5,6],[44,55,66]]],ndmin=5)\n",
    "array,array.ndim"
   ]
  },
  {
   "cell_type": "code",
   "execution_count": 162,
   "id": "73bdf178",
   "metadata": {},
   "outputs": [
    {
     "data": {
      "text/plain": [
       "(array([[[ 1,  2,  3],\n",
       "         [11, 22, 33]],\n",
       " \n",
       "        [[ 4,  5,  6],\n",
       "         [44, 55, 66]]]),\n",
       " 3)"
      ]
     },
     "execution_count": 162,
     "metadata": {},
     "output_type": "execute_result"
    }
   ],
   "source": [
    "array=np.array([[[1,2,3],[11,22,33]],\n",
    "                [[4,5,6],[44,55,66]]],ndmin=2)\n",
    "array,array.ndim"
   ]
  },
  {
   "cell_type": "code",
   "execution_count": 165,
   "id": "2bd0245b",
   "metadata": {},
   "outputs": [
    {
     "data": {
      "text/plain": [
       "(array([[ 1,  2,  3],\n",
       "        [11, 22, 33],\n",
       "        [ 4,  5,  6],\n",
       "        [44, 55, 66]]),\n",
       " 2)"
      ]
     },
     "execution_count": 165,
     "metadata": {},
     "output_type": "execute_result"
    }
   ],
   "source": [
    "newarray=array.reshape(4,3) # 2d array\n",
    "newarray,newarray.ndim"
   ]
  },
  {
   "cell_type": "code",
   "execution_count": 169,
   "id": "d0c3dcfe",
   "metadata": {},
   "outputs": [
    {
     "data": {
      "text/plain": [
       "(array([ 1,  2,  3,  4, 56,  7,  8,  9]), (8,))"
      ]
     },
     "execution_count": 169,
     "metadata": {},
     "output_type": "execute_result"
    }
   ],
   "source": [
    "arr=np.array([1,2,3,4,56,7,8,9])\n",
    "newarr=arr.reshape(-1)\n",
    "newarr,newarr.shape"
   ]
  },
  {
   "cell_type": "code",
   "execution_count": 170,
   "id": "52aa210c",
   "metadata": {},
   "outputs": [
    {
     "name": "stdout",
     "output_type": "stream",
     "text": [
      "[1 2 3]\n",
      "[11 22 33]\n",
      "[4 5 6]\n",
      "[44 55 66]\n"
     ]
    }
   ],
   "source": [
    "for i in newarray:\n",
    "    print(i)"
   ]
  },
  {
   "cell_type": "code",
   "execution_count": 171,
   "id": "65986dda",
   "metadata": {},
   "outputs": [
    {
     "name": "stdout",
     "output_type": "stream",
     "text": [
      "1\n",
      "2\n",
      "3\n",
      "11\n",
      "22\n",
      "33\n",
      "4\n",
      "5\n",
      "6\n",
      "44\n",
      "55\n",
      "66\n"
     ]
    }
   ],
   "source": [
    "for i in newarray:\n",
    "    for j in i:\n",
    "        print(j)"
   ]
  },
  {
   "cell_type": "code",
   "execution_count": 172,
   "id": "3bfaef27",
   "metadata": {},
   "outputs": [
    {
     "data": {
      "text/plain": [
       "array([[ 1,  2,  3],\n",
       "       [11, 22, 33],\n",
       "       [ 4, 44, 55],\n",
       "       [ 5,  6,  7]])"
      ]
     },
     "execution_count": 172,
     "metadata": {},
     "output_type": "execute_result"
    }
   ],
   "source": [
    "arr_2d"
   ]
  },
  {
   "cell_type": "code",
   "execution_count": 173,
   "id": "fc96dfeb",
   "metadata": {},
   "outputs": [
    {
     "name": "stdout",
     "output_type": "stream",
     "text": [
      "[1 2 3]\n",
      "[11 22 33]\n",
      "[ 4 44 55]\n",
      "[5 6 7]\n"
     ]
    }
   ],
   "source": [
    "# array printing\n",
    "for i in arr_2d:\n",
    "    print(i)"
   ]
  },
  {
   "cell_type": "code",
   "execution_count": 174,
   "id": "b0be090a",
   "metadata": {},
   "outputs": [
    {
     "name": "stdout",
     "output_type": "stream",
     "text": [
      "1\n",
      "2\n",
      "3\n",
      "11\n",
      "22\n",
      "33\n",
      "4\n",
      "44\n",
      "55\n",
      "5\n",
      "6\n",
      "7\n"
     ]
    }
   ],
   "source": [
    "# element printing\n",
    "for i in arr_2d:\n",
    "    for j in i:\n",
    "        print(j)"
   ]
  },
  {
   "cell_type": "code",
   "execution_count": 175,
   "id": "7d1ef7d0",
   "metadata": {},
   "outputs": [
    {
     "data": {
      "text/plain": [
       "array([[[  1,   2,  11],\n",
       "        [  3,   4,  22]],\n",
       "\n",
       "       [[  5,   6,  33],\n",
       "        [  7,   8,  44]],\n",
       "\n",
       "       [[ 55,  66,  77],\n",
       "        [ 88,  99, 100]]])"
      ]
     },
     "execution_count": 175,
     "metadata": {},
     "output_type": "execute_result"
    }
   ],
   "source": [
    "arr_3d"
   ]
  },
  {
   "cell_type": "code",
   "execution_count": 176,
   "id": "49130c2b",
   "metadata": {},
   "outputs": [
    {
     "name": "stdout",
     "output_type": "stream",
     "text": [
      "[[ 1  2 11]\n",
      " [ 3  4 22]]\n",
      "[[ 5  6 33]\n",
      " [ 7  8 44]]\n",
      "[[ 55  66  77]\n",
      " [ 88  99 100]]\n"
     ]
    }
   ],
   "source": [
    "for i in arr_3d:\n",
    "    print(i)"
   ]
  },
  {
   "cell_type": "code",
   "execution_count": 177,
   "id": "730ca9c1",
   "metadata": {},
   "outputs": [
    {
     "name": "stdout",
     "output_type": "stream",
     "text": [
      "1\n",
      "2\n",
      "11\n",
      "3\n",
      "4\n",
      "22\n",
      "5\n",
      "6\n",
      "33\n",
      "7\n",
      "8\n",
      "44\n",
      "55\n",
      "66\n",
      "77\n",
      "88\n",
      "99\n",
      "100\n"
     ]
    }
   ],
   "source": [
    "for i in arr_3d:\n",
    "    for j in i:\n",
    "        for k in j:\n",
    "            print(k)"
   ]
  },
  {
   "cell_type": "code",
   "execution_count": 182,
   "id": "c3451585",
   "metadata": {},
   "outputs": [
    {
     "name": "stdout",
     "output_type": "stream",
     "text": [
      "int to float 1.0\n",
      "int to float 2.0\n",
      "int to float 3.0\n"
     ]
    }
   ],
   "source": [
    "arr=np.nditer([1,2,3])\n",
    "\n",
    "for i in np.nditer(arr, flags=['buffered'],op_dtypes=float):\n",
    "    print('int to float',i)"
   ]
  },
  {
   "cell_type": "code",
   "execution_count": 189,
   "id": "ddab7385",
   "metadata": {},
   "outputs": [
    {
     "name": "stdout",
     "output_type": "stream",
     "text": [
      "1\n",
      "4\n",
      "5\n",
      "8\n"
     ]
    }
   ],
   "source": [
    "arr=np.array([[1,2,3,4],[5,6,7,8]])\n",
    "\n",
    "for i in np.nditer(arr[:,0:4:3]):\n",
    "    print(i)"
   ]
  },
  {
   "cell_type": "code",
   "execution_count": 190,
   "id": "9456297c",
   "metadata": {},
   "outputs": [
    {
     "name": "stdout",
     "output_type": "stream",
     "text": [
      "55\n"
     ]
    }
   ],
   "source": [
    "arr=np.array([[[1,2,3],[11,22,33]],[[4,5,6],[44,55,66]]])\n",
    "\n",
    "for i in np.nditer(arr[1:,1:,1:2]):\n",
    "    print(i)"
   ]
  },
  {
   "cell_type": "code",
   "execution_count": 191,
   "id": "69417501",
   "metadata": {},
   "outputs": [
    {
     "name": "stdout",
     "output_type": "stream",
     "text": [
      "1\n",
      "11\n",
      "4\n",
      "44\n"
     ]
    }
   ],
   "source": [
    "for i in np.nditer(arr[:,:,0:1]):\n",
    "    print(i)"
   ]
  },
  {
   "cell_type": "code",
   "execution_count": 192,
   "id": "0f3f328a",
   "metadata": {},
   "outputs": [
    {
     "name": "stdout",
     "output_type": "stream",
     "text": [
      "((0, 0, 0), 55)\n"
     ]
    }
   ],
   "source": [
    "arr=np.array([[[1,2,3],[11,22,33]],[[4,5,6],[44,55,66]]])\n",
    "\n",
    "for i in np.ndenumerate(arr[1:,1:,1:2]):\n",
    "    print(i)"
   ]
  },
  {
   "cell_type": "code",
   "execution_count": 193,
   "id": "0a38176c",
   "metadata": {},
   "outputs": [
    {
     "name": "stdout",
     "output_type": "stream",
     "text": [
      "((0, 0), 1)\n",
      "((0, 1), 2)\n",
      "((0, 2), 3)\n",
      "((0, 3), 4)\n",
      "((1, 0), 5)\n",
      "((1, 1), 6)\n",
      "((1, 2), 7)\n",
      "((1, 3), 8)\n"
     ]
    }
   ],
   "source": [
    "arr=np.array([[1,2,3,4],[5,6,7,8]])\n",
    "\n",
    "for i in np.ndenumerate(arr):\n",
    "    print(i)"
   ]
  },
  {
   "cell_type": "code",
   "execution_count": 194,
   "id": "6a811888",
   "metadata": {},
   "outputs": [
    {
     "name": "stdout",
     "output_type": "stream",
     "text": [
      "[ 1  2  3 11 22 33]\n"
     ]
    }
   ],
   "source": [
    "arr1=np.array([1,2,3])\n",
    "arr2=np.array([11,22,33])\n",
    "\n",
    "newarr=np.concatenate((arr1,arr2),axis=0)\n",
    "print(newarr)"
   ]
  },
  {
   "cell_type": "code",
   "execution_count": 196,
   "id": "412ea8aa",
   "metadata": {},
   "outputs": [
    {
     "name": "stdout",
     "output_type": "stream",
     "text": [
      "[[1 2 5 6]\n",
      " [3 4 7 8]]\n"
     ]
    }
   ],
   "source": [
    "arr1 = np.array([[1, 2], [3, 4]])\n",
    "arr2 = np.array([[5,6 ], [7, 8]])\n",
    "\n",
    "newarr=np.concatenate((arr1,arr2),axis=1)\n",
    "print(newarr)"
   ]
  },
  {
   "cell_type": "code",
   "execution_count": 197,
   "id": "685e5bd5",
   "metadata": {},
   "outputs": [
    {
     "name": "stdout",
     "output_type": "stream",
     "text": [
      "[[1 2 3]\n",
      " [4 5 6]]\n"
     ]
    }
   ],
   "source": [
    "arr1 = np.array([2, 3, 4])\n",
    "arr2 = np.array([5, 6, 7])\n",
    "\n",
    "arr = np.dot((arr1, arr2))\n",
    "print(arr)"
   ]
  },
  {
   "cell_type": "code",
   "execution_count": 201,
   "id": "1aff0ef1",
   "metadata": {},
   "outputs": [
    {
     "data": {
      "text/plain": [
       "array([[37, 15],\n",
       "       [92, 32]])"
      ]
     },
     "execution_count": 201,
     "metadata": {},
     "output_type": "execute_result"
    }
   ],
   "source": [
    "arr1 = np.array([[2, 3],[4,8]])\n",
    "arr2 = np.array([[5, 6],[9,1]])\n",
    "\n",
    "arr1.dot(arr2)"
   ]
  },
  {
   "cell_type": "markdown",
   "id": "c796f4c5",
   "metadata": {},
   "source": [
    "2 3\n",
    "4 8\n",
    "\n",
    "5 6 \n",
    "9 1\n",
    "\n",
    "\n",
    "2*5+3*9  2*6+3*1\n",
    "\n",
    "4*5+8*9  4*6+8*1  \n",
    "\n"
   ]
  },
  {
   "cell_type": "code",
   "execution_count": 211,
   "id": "8d38ef03",
   "metadata": {},
   "outputs": [
    {
     "data": {
      "text/plain": [
       "37"
      ]
     },
     "execution_count": 211,
     "metadata": {},
     "output_type": "execute_result"
    }
   ],
   "source": [
    "2*5+3*9"
   ]
  },
  {
   "cell_type": "code",
   "execution_count": 207,
   "id": "98868b66",
   "metadata": {},
   "outputs": [
    {
     "data": {
      "text/plain": [
       "15"
      ]
     },
     "execution_count": 207,
     "metadata": {},
     "output_type": "execute_result"
    }
   ],
   "source": [
    "2*6+3*1"
   ]
  },
  {
   "cell_type": "code",
   "execution_count": 208,
   "id": "3240372f",
   "metadata": {},
   "outputs": [
    {
     "data": {
      "text/plain": [
       "92"
      ]
     },
     "execution_count": 208,
     "metadata": {},
     "output_type": "execute_result"
    }
   ],
   "source": [
    "4*5+8*9"
   ]
  },
  {
   "cell_type": "code",
   "execution_count": 209,
   "id": "44f70213",
   "metadata": {},
   "outputs": [
    {
     "data": {
      "text/plain": [
       "32"
      ]
     },
     "execution_count": 209,
     "metadata": {},
     "output_type": "execute_result"
    }
   ],
   "source": [
    "4*6+8*1"
   ]
  },
  {
   "cell_type": "code",
   "execution_count": 4,
   "id": "8904cfba",
   "metadata": {},
   "outputs": [],
   "source": [
    "import numpy as np"
   ]
  },
  {
   "cell_type": "code",
   "execution_count": 3,
   "id": "78c0e465-75d5-4887-98af-74ef9bb9571c",
   "metadata": {},
   "outputs": [],
   "source": [
    "# pip install numpy"
   ]
  },
  {
   "cell_type": "code",
   "execution_count": 13,
   "id": "62889a6f-52da-4da8-a198-71ed4e4a5a17",
   "metadata": {},
   "outputs": [
    {
     "name": "stdout",
     "output_type": "stream",
     "text": [
      "1.26.0\n"
     ]
    }
   ],
   "source": [
    "print(np.__version__)"
   ]
  },
  {
   "cell_type": "code",
   "execution_count": 15,
   "id": "89d9d674-4e72-42d6-b851-8af81bff4d55",
   "metadata": {},
   "outputs": [
    {
     "name": "stdout",
     "output_type": "stream",
     "text": [
      "Python version\n",
      "3.11.5 (tags/v3.11.5:cce6ba9, Aug 24 2023, 14:38:34) [MSC v.1936 64 bit (AMD64)]\n",
      "Version info.\n",
      "sys.version_info(major=3, minor=11, micro=5, releaselevel='final', serial=0)\n"
     ]
    }
   ],
   "source": [
    "import sys\n",
    "\n",
    "print(\"Python version\")\n",
    "print(sys.version)\n",
    "print(\"Version info.\")\n",
    "print(sys.version_info)\n"
   ]
  },
  {
   "cell_type": "code",
   "execution_count": 19,
   "id": "fbb527bf-bb63-4c74-a913-06a0903fad7d",
   "metadata": {},
   "outputs": [
    {
     "name": "stdout",
     "output_type": "stream",
     "text": [
      "[1 2 3 4 5] <class 'numpy.ndarray'>\n"
     ]
    }
   ],
   "source": [
    "arr = np.array((1,2,3,4,5))\n",
    "print(arr, type(arr))"
   ]
  },
  {
   "cell_type": "code",
   "execution_count": 20,
   "id": "4563b2af-bc66-4abe-9272-325b00f32919",
   "metadata": {},
   "outputs": [
    {
     "data": {
      "text/plain": [
       "array([ 1,  2, 34])"
      ]
     },
     "execution_count": 20,
     "metadata": {},
     "output_type": "execute_result"
    }
   ],
   "source": [
    "tup = [1,2,34]\n",
    "arr = np.array(tup)\n",
    "arr"
   ]
  },
  {
   "cell_type": "code",
   "execution_count": 22,
   "id": "9c4f4df6-e953-4025-9087-32d304322998",
   "metadata": {},
   "outputs": [
    {
     "data": {
      "text/plain": [
       "array([[0., 0., 0., 0., 0., 0., 0., 0., 0., 0.],\n",
       "       [0., 0., 0., 0., 0., 0., 0., 0., 0., 0.],\n",
       "       [0., 0., 0., 0., 0., 0., 0., 0., 0., 0.],\n",
       "       [0., 0., 0., 0., 0., 0., 0., 0., 0., 0.],\n",
       "       [0., 0., 0., 0., 0., 0., 0., 0., 0., 0.],\n",
       "       [0., 0., 0., 0., 0., 0., 0., 0., 0., 0.],\n",
       "       [0., 0., 0., 0., 0., 0., 0., 0., 0., 0.],\n",
       "       [0., 0., 0., 0., 0., 0., 0., 0., 0., 0.],\n",
       "       [0., 0., 0., 0., 0., 0., 0., 0., 0., 0.],\n",
       "       [0., 0., 0., 0., 0., 0., 0., 0., 0., 0.]])"
      ]
     },
     "execution_count": 22,
     "metadata": {},
     "output_type": "execute_result"
    }
   ],
   "source": [
    "np.zeros((10,10))"
   ]
  },
  {
   "cell_type": "code",
   "execution_count": 23,
   "id": "aa092494-a4db-4de5-ba8a-bd2b70bf9977",
   "metadata": {},
   "outputs": [
    {
     "data": {
      "text/plain": [
       "array([[1., 1., 1., 1., 1., 1., 1., 1., 1., 1.],\n",
       "       [1., 1., 1., 1., 1., 1., 1., 1., 1., 1.],\n",
       "       [1., 1., 1., 1., 1., 1., 1., 1., 1., 1.],\n",
       "       [1., 1., 1., 1., 1., 1., 1., 1., 1., 1.],\n",
       "       [1., 1., 1., 1., 1., 1., 1., 1., 1., 1.],\n",
       "       [1., 1., 1., 1., 1., 1., 1., 1., 1., 1.],\n",
       "       [1., 1., 1., 1., 1., 1., 1., 1., 1., 1.],\n",
       "       [1., 1., 1., 1., 1., 1., 1., 1., 1., 1.],\n",
       "       [1., 1., 1., 1., 1., 1., 1., 1., 1., 1.],\n",
       "       [1., 1., 1., 1., 1., 1., 1., 1., 1., 1.]])"
      ]
     },
     "execution_count": 23,
     "metadata": {},
     "output_type": "execute_result"
    }
   ],
   "source": [
    "np.ones((10,10))"
   ]
  },
  {
   "cell_type": "code",
   "execution_count": 24,
   "id": "696eaa0a-d7ba-4074-9fe8-0cfcadd289d5",
   "metadata": {},
   "outputs": [
    {
     "data": {
      "text/plain": [
       "array([[1., 0., 0., 0., 0., 0., 0., 0., 0., 0.],\n",
       "       [0., 1., 0., 0., 0., 0., 0., 0., 0., 0.],\n",
       "       [0., 0., 1., 0., 0., 0., 0., 0., 0., 0.],\n",
       "       [0., 0., 0., 1., 0., 0., 0., 0., 0., 0.],\n",
       "       [0., 0., 0., 0., 1., 0., 0., 0., 0., 0.],\n",
       "       [0., 0., 0., 0., 0., 1., 0., 0., 0., 0.],\n",
       "       [0., 0., 0., 0., 0., 0., 1., 0., 0., 0.],\n",
       "       [0., 0., 0., 0., 0., 0., 0., 1., 0., 0.],\n",
       "       [0., 0., 0., 0., 0., 0., 0., 0., 1., 0.],\n",
       "       [0., 0., 0., 0., 0., 0., 0., 0., 0., 1.]])"
      ]
     },
     "execution_count": 24,
     "metadata": {},
     "output_type": "execute_result"
    }
   ],
   "source": [
    "np.eye(10)"
   ]
  },
  {
   "cell_type": "code",
   "execution_count": 25,
   "id": "8de78b81-ef1a-47f1-b0fd-6cb321089b2b",
   "metadata": {},
   "outputs": [
    {
     "data": {
      "text/plain": [
       "array([0, 1, 2, 3, 4, 5, 6, 7, 8, 9])"
      ]
     },
     "execution_count": 25,
     "metadata": {},
     "output_type": "execute_result"
    }
   ],
   "source": [
    "np.arange(10)"
   ]
  },
  {
   "cell_type": "code",
   "execution_count": 26,
   "id": "16f1634c-6491-4c5c-a481-f0e90f92144b",
   "metadata": {},
   "outputs": [
    {
     "data": {
      "text/plain": [
       "array([0.        , 0.11111111, 0.22222222, 0.33333333, 0.44444444,\n",
       "       0.55555556, 0.66666667, 0.77777778, 0.88888889, 1.        ])"
      ]
     },
     "execution_count": 26,
     "metadata": {},
     "output_type": "execute_result"
    }
   ],
   "source": [
    "np.linspace(0,1,10)"
   ]
  },
  {
   "cell_type": "code",
   "execution_count": 27,
   "id": "bd20e4cf-f9ac-45c2-98a0-8a4b587fae1a",
   "metadata": {},
   "outputs": [
    {
     "data": {
      "text/plain": [
       "array([[0.06620084, 0.48058662, 0.91874599],\n",
       "       [0.62896477, 0.4728874 , 0.75852467]])"
      ]
     },
     "execution_count": 27,
     "metadata": {},
     "output_type": "execute_result"
    }
   ],
   "source": [
    "np.random.rand(2, 3)"
   ]
  },
  {
   "cell_type": "code",
   "execution_count": 32,
   "id": "b1e756c4-4d75-46b0-ba97-02768e51b139",
   "metadata": {},
   "outputs": [
    {
     "data": {
      "text/plain": [
       "array([0, 1, 2, 3, 4, 5, 6, 7, 8, 9])"
      ]
     },
     "execution_count": 32,
     "metadata": {},
     "output_type": "execute_result"
    }
   ],
   "source": [
    "arr = np.arange(10)\n",
    "arr"
   ]
  },
  {
   "cell_type": "code",
   "execution_count": 36,
   "id": "0f5b4357-c69b-418c-b279-2f808f22e6e8",
   "metadata": {},
   "outputs": [
    {
     "data": {
      "text/plain": [
       "array([[0, 1],\n",
       "       [2, 3],\n",
       "       [4, 5],\n",
       "       [6, 7],\n",
       "       [8, 9]])"
      ]
     },
     "execution_count": 36,
     "metadata": {},
     "output_type": "execute_result"
    }
   ],
   "source": [
    "newarr  = arr.reshape((5,2))\n",
    "newarr"
   ]
  },
  {
   "cell_type": "code",
   "execution_count": 38,
   "id": "e9e64d51-5825-4deb-b932-2f44bb7b0ff9",
   "metadata": {},
   "outputs": [
    {
     "data": {
      "text/plain": [
       "array([ 0,  1,  2,  3,  4,  5,  6,  7,  8,  9, 10, 11, 12, 13, 14])"
      ]
     },
     "execution_count": 38,
     "metadata": {},
     "output_type": "execute_result"
    }
   ],
   "source": [
    "b  = np.arange(15)\n",
    "b"
   ]
  },
  {
   "cell_type": "code",
   "execution_count": 41,
   "id": "87429c42-e73d-40eb-9883-cd9c003dcb98",
   "metadata": {},
   "outputs": [
    {
     "data": {
      "text/plain": [
       "(array(10), 0)"
      ]
     },
     "execution_count": 41,
     "metadata": {},
     "output_type": "execute_result"
    }
   ],
   "source": [
    "arr = np.array(10)\n",
    "arr, arr.ndim"
   ]
  },
  {
   "cell_type": "code",
   "execution_count": 42,
   "id": "96370901-01a9-4561-909a-247cd2b38212",
   "metadata": {},
   "outputs": [
    {
     "data": {
      "text/plain": [
       "(array([1, 2, 3, 4, 5]), 1)"
      ]
     },
     "execution_count": 42,
     "metadata": {},
     "output_type": "execute_result"
    }
   ],
   "source": [
    "arr1 = np.array([1,2,3,4,5])\n",
    "arr1, arr1.ndim"
   ]
  },
  {
   "cell_type": "code",
   "execution_count": 49,
   "id": "830ecccf-7a42-4adf-9565-d6bff9bc33c2",
   "metadata": {},
   "outputs": [
    {
     "data": {
      "text/plain": [
       "4"
      ]
     },
     "execution_count": 49,
     "metadata": {},
     "output_type": "execute_result"
    }
   ],
   "source": [
    "arr1[3]"
   ]
  },
  {
   "cell_type": "code",
   "execution_count": 43,
   "id": "6fc87bb4-e139-414d-9a4a-67b8803230c9",
   "metadata": {},
   "outputs": [
    {
     "data": {
      "text/plain": [
       "(array([[ 1,  2,  3],\n",
       "        [11, 22, 33]]),\n",
       " 2)"
      ]
     },
     "execution_count": 43,
     "metadata": {},
     "output_type": "execute_result"
    }
   ],
   "source": [
    "arr2 = np.array([[1,2,3],[11,22,33]])\n",
    "arr2, arr2.ndim"
   ]
  },
  {
   "cell_type": "code",
   "execution_count": 65,
   "id": "54ae10f1-a9de-425a-b4cd-b83490e9ebf5",
   "metadata": {},
   "outputs": [
    {
     "data": {
      "text/plain": [
       "array([[ 1],\n",
       "       [11]])"
      ]
     },
     "execution_count": 65,
     "metadata": {},
     "output_type": "execute_result"
    }
   ],
   "source": [
    "arr2[0:2, 0:1]"
   ]
  },
  {
   "cell_type": "code",
   "execution_count": 66,
   "id": "0c949ddb-6696-40a2-9e2d-6a0b0d73f74a",
   "metadata": {},
   "outputs": [
    {
     "data": {
      "text/plain": [
       "array([[1, 2, 3]])"
      ]
     },
     "execution_count": 66,
     "metadata": {},
     "output_type": "execute_result"
    }
   ],
   "source": [
    "arr2[0:2][0:1]"
   ]
  },
  {
   "cell_type": "code",
   "execution_count": 45,
   "id": "18866434-735b-4b10-9527-ca518a2f4c34",
   "metadata": {},
   "outputs": [
    {
     "data": {
      "text/plain": [
       "(array([[[ 1,  2,  3],\n",
       "         [11, 22, 33]],\n",
       " \n",
       "        [[ 1,  2,  3],\n",
       "         [11, 22, 33]]]),\n",
       " 3)"
      ]
     },
     "execution_count": 45,
     "metadata": {},
     "output_type": "execute_result"
    }
   ],
   "source": [
    "arr3 = np.array([[[1,2,3],[11,22,33]],\n",
    "                 [[1,2,3],[11,22,33]]])\n",
    "arr3, arr3.ndim"
   ]
  },
  {
   "cell_type": "code",
   "execution_count": 64,
   "id": "d6f5c3fd-242f-441f-a2f6-02ced8b80127",
   "metadata": {},
   "outputs": [
    {
     "data": {
      "text/plain": [
       "array([[[1, 2, 3]],\n",
       "\n",
       "       [[1, 2, 3]]])"
      ]
     },
     "execution_count": 64,
     "metadata": {},
     "output_type": "execute_result"
    }
   ],
   "source": [
    "arr3[0:, 0:1]"
   ]
  },
  {
   "cell_type": "code",
   "execution_count": 1,
   "id": "92752dcd-ae81-4650-a3a6-8c7dc36b50a3",
   "metadata": {},
   "outputs": [],
   "source": [
    "import numpy as np"
   ]
  },
  {
   "cell_type": "code",
   "execution_count": 3,
   "id": "cd543416-b84e-448d-9661-bb95ed3ace05",
   "metadata": {},
   "outputs": [
    {
     "data": {
      "text/plain": [
       "array([ 1,  2,  3,  4, 45])"
      ]
     },
     "execution_count": 3,
     "metadata": {},
     "output_type": "execute_result"
    }
   ],
   "source": [
    "arr=np.array([1,2,3,4,45])\n",
    "arr"
   ]
  },
  {
   "cell_type": "code",
   "execution_count": 4,
   "id": "5c72e0a6-40ea-4576-bd8f-97b3b6409852",
   "metadata": {
    "scrolled": true
   },
   "outputs": [
    {
     "data": {
      "text/plain": [
       "1"
      ]
     },
     "execution_count": 4,
     "metadata": {},
     "output_type": "execute_result"
    }
   ],
   "source": [
    "arr.ndim"
   ]
  },
  {
   "cell_type": "code",
   "execution_count": 5,
   "id": "fedddab7-4fa6-4854-bc9b-566d76095501",
   "metadata": {},
   "outputs": [
    {
     "data": {
      "text/plain": [
       "2"
      ]
     },
     "execution_count": 5,
     "metadata": {},
     "output_type": "execute_result"
    }
   ],
   "source": [
    "arr[1]"
   ]
  },
  {
   "cell_type": "code",
   "execution_count": 7,
   "id": "56d25fb2-d91c-4205-85cd-c45aedb74d96",
   "metadata": {},
   "outputs": [
    {
     "name": "stdout",
     "output_type": "stream",
     "text": [
      "[[ 1  2  3  4]\n",
      " [ 4  5  6  7]\n",
      " [44 55 66 77]\n",
      " [11 15 16 17]]\n",
      "Dimensions:  2\n"
     ]
    }
   ],
   "source": [
    "ar = [[1,2,3,4],[4,5,6,7],[44,55,66,77],[11,15,16,17]]\n",
    "arr = np.array(ar)\n",
    "print(arr)\n",
    "print(\"Dimensions: \",arr.ndim)"
   ]
  },
  {
   "cell_type": "code",
   "execution_count": 25,
   "id": "5f608044-e3e0-430f-b1da-8d0a87cde048",
   "metadata": {},
   "outputs": [
    {
     "data": {
      "text/plain": [
       "[4, 5, 6, 7]"
      ]
     },
     "execution_count": 25,
     "metadata": {},
     "output_type": "execute_result"
    }
   ],
   "source": [
    "ar[1]"
   ]
  },
  {
   "cell_type": "code",
   "execution_count": 27,
   "id": "1fda61dc-5f07-479c-808a-d480de2ab1ef",
   "metadata": {},
   "outputs": [
    {
     "data": {
      "text/plain": [
       "(array([[[ 1,  2,  3],\n",
       "         [ 4,  5,  6]],\n",
       " \n",
       "        [[10, 20, 30],\n",
       "         [40, 50, 60]]]),\n",
       " 3)"
      ]
     },
     "execution_count": 27,
     "metadata": {},
     "output_type": "execute_result"
    }
   ],
   "source": [
    "arr = np.array([[[1,2,3], [4,5,6]], [[10,20,30], [40,50,60]]])\n",
    "arr, arr.ndim"
   ]
  },
  {
   "cell_type": "code",
   "execution_count": 36,
   "id": "13e08418-7c1f-433b-8a42-e39fc2783960",
   "metadata": {},
   "outputs": [
    {
     "data": {
      "text/plain": [
       "1"
      ]
     },
     "execution_count": 36,
     "metadata": {},
     "output_type": "execute_result"
    }
   ],
   "source": [
    "arr[0][0][0]"
   ]
  },
  {
   "cell_type": "code",
   "execution_count": 33,
   "id": "1b45d615-80c4-4ad2-a28f-a1cdcf1e3bf6",
   "metadata": {},
   "outputs": [
    {
     "data": {
      "text/plain": [
       "40"
      ]
     },
     "execution_count": 33,
     "metadata": {},
     "output_type": "execute_result"
    }
   ],
   "source": [
    "arr[1][1][0]"
   ]
  },
  {
   "cell_type": "code",
   "execution_count": 37,
   "id": "52d3ba53-8b5f-4f76-a108-2666f64c3b9c",
   "metadata": {},
   "outputs": [
    {
     "name": "stdout",
     "output_type": "stream",
     "text": [
      "[1 2 3 4 5 6 7 8 9]\n"
     ]
    }
   ],
   "source": [
    "arr = np.array([1,2,3,4,5,6,7,8,9])\n",
    "print(arr)"
   ]
  },
  {
   "cell_type": "code",
   "execution_count": 38,
   "id": "8c7bfa79-eb8d-4d8a-ad36-0e876f3be604",
   "metadata": {},
   "outputs": [
    {
     "data": {
      "text/plain": [
       "array([1, 2, 3, 4, 5])"
      ]
     },
     "execution_count": 38,
     "metadata": {},
     "output_type": "execute_result"
    }
   ],
   "source": [
    "arr[0:5]"
   ]
  },
  {
   "cell_type": "code",
   "execution_count": 39,
   "id": "5d6c4658-8448-41d0-b7ef-b013a33496bb",
   "metadata": {},
   "outputs": [
    {
     "data": {
      "text/plain": [
       "array([1, 3, 5, 7, 9])"
      ]
     },
     "execution_count": 39,
     "metadata": {},
     "output_type": "execute_result"
    }
   ],
   "source": [
    "arr[0::2]"
   ]
  },
  {
   "cell_type": "code",
   "execution_count": 45,
   "id": "41ff4c7e-faf9-4e86-8a5f-9abc48523425",
   "metadata": {},
   "outputs": [
    {
     "data": {
      "text/plain": [
       "array([9, 8, 7, 6, 5, 4, 3, 2, 1])"
      ]
     },
     "execution_count": 45,
     "metadata": {},
     "output_type": "execute_result"
    }
   ],
   "source": [
    "arr[::-1]"
   ]
  },
  {
   "cell_type": "code",
   "execution_count": 68,
   "id": "7a168289-690e-490a-97f3-31240f12b216",
   "metadata": {},
   "outputs": [
    {
     "data": {
      "text/plain": [
       "array([9, 7, 5, 3, 1])"
      ]
     },
     "execution_count": 68,
     "metadata": {},
     "output_type": "execute_result"
    }
   ],
   "source": [
    "arr[::-2]"
   ]
  },
  {
   "cell_type": "code",
   "execution_count": 65,
   "id": "269d4e28-de85-4058-9cd2-b847f6254d6e",
   "metadata": {},
   "outputs": [
    {
     "data": {
      "text/plain": [
       "array([1, 2, 3, 4, 5, 6, 7, 8, 9])"
      ]
     },
     "execution_count": 65,
     "metadata": {},
     "output_type": "execute_result"
    }
   ],
   "source": [
    "arr"
   ]
  },
  {
   "cell_type": "code",
   "execution_count": 66,
   "id": "bb0e6769-07ad-48d6-be7f-b3dfa6c2b717",
   "metadata": {},
   "outputs": [
    {
     "data": {
      "text/plain": [
       "array([5, 6, 7])"
      ]
     },
     "execution_count": 66,
     "metadata": {},
     "output_type": "execute_result"
    }
   ],
   "source": [
    "arr[-5:-2]"
   ]
  },
  {
   "cell_type": "code",
   "execution_count": 69,
   "id": "f663d15a-a301-4e0f-a2c0-31135f7d325d",
   "metadata": {},
   "outputs": [
    {
     "data": {
      "text/plain": [
       "array([[ 1,  2,  3,  4,  5],\n",
       "       [ 6,  7,  8,  9, 10]])"
      ]
     },
     "execution_count": 69,
     "metadata": {},
     "output_type": "execute_result"
    }
   ],
   "source": [
    "arr = np.array([[1,2,3,4,5], [6,7,8,9,10]])\n",
    "arr"
   ]
  },
  {
   "cell_type": "code",
   "execution_count": 73,
   "id": "9358f6c9-bab4-4f52-b8cb-9b0b42a1785e",
   "metadata": {},
   "outputs": [
    {
     "data": {
      "text/plain": [
       "array([[3, 4],\n",
       "       [8, 9]])"
      ]
     },
     "execution_count": 73,
     "metadata": {},
     "output_type": "execute_result"
    }
   ],
   "source": [
    "arr[0:, 2:4]"
   ]
  },
  {
   "cell_type": "code",
   "execution_count": 75,
   "id": "0118eaa6-d5c3-4807-95e2-11bb53fc0d6c",
   "metadata": {},
   "outputs": [
    {
     "data": {
      "text/plain": [
       "array([7, 8, 9])"
      ]
     },
     "execution_count": 75,
     "metadata": {},
     "output_type": "execute_result"
    }
   ],
   "source": [
    "arr[1, 1:4]"
   ]
  },
  {
   "cell_type": "code",
   "execution_count": 76,
   "id": "a652c435-1640-4efb-aea5-88e3c5d403fa",
   "metadata": {},
   "outputs": [
    {
     "name": "stdout",
     "output_type": "stream",
     "text": [
      "[[[ 1  2  3]\n",
      "  [ 5  6  7]]\n",
      "\n",
      " [[11 22 33]\n",
      "  [55 66 77]]]\n"
     ]
    }
   ],
   "source": [
    "arr=np.array([[[1,2,3],[5,6,7]],[[11,22,33],[55,66,77]]])\n",
    "print(arr)"
   ]
  },
  {
   "cell_type": "code",
   "execution_count": 81,
   "id": "88869721-37bb-4f01-84fe-0d804344d148",
   "metadata": {},
   "outputs": [
    {
     "data": {
      "text/plain": [
       "array([[22, 33],\n",
       "       [66, 77]])"
      ]
     },
     "execution_count": 81,
     "metadata": {},
     "output_type": "execute_result"
    }
   ],
   "source": [
    "arr[1, :, 1:] # [array location , array row location, array coloumn location] "
   ]
  },
  {
   "cell_type": "code",
   "execution_count": 89,
   "id": "1b4a07f9-f22f-460e-ba1b-933ad3400988",
   "metadata": {},
   "outputs": [
    {
     "data": {
      "text/plain": [
       "array([[[22],\n",
       "        [66]]])"
      ]
     },
     "execution_count": 89,
     "metadata": {},
     "output_type": "execute_result"
    }
   ],
   "source": [
    "arr[1:, :, 1:2]"
   ]
  },
  {
   "cell_type": "code",
   "execution_count": null,
   "id": "f3d4b591-efdf-4f28-a2c8-318e6330ccb5",
   "metadata": {},
   "outputs": [],
   "source": []
  }
 ],
 "metadata": {
  "kernelspec": {
   "display_name": "Python 3 (ipykernel)",
   "language": "python",
   "name": "python3"
  },
  "language_info": {
   "codemirror_mode": {
    "name": "ipython",
    "version": 3
   },
   "file_extension": ".py",
   "mimetype": "text/x-python",
   "name": "python",
   "nbconvert_exporter": "python",
   "pygments_lexer": "ipython3",
   "version": "3.11.5"
  }
 },
 "nbformat": 4,
 "nbformat_minor": 5
}
