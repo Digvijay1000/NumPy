{
 "cells": [
  {
   "cell_type": "markdown",
   "id": "bc43ad86",
   "metadata": {},
   "source": [
    "## Numerical Python End to End in Detail\n",
    "\n",
    "### Numpy:\n",
    "\n",
    "Numpy- is a **Numerical Python**\n",
    "\n",
    "It is developed by **Travis Oliphant in 2005**\n",
    "\n",
    "Numpy has functions to work on linear algebra, fourier transform, and matrices\n",
    "\n",
    "Its basically used to work with array, It can work with multidimentional Arrays\n",
    "\n",
    "\n",
    "### Why:\n",
    "\n",
    "Numpy is built using **python,** and most of the part which requires fatser execution is **developed using c or c++**,So it is very fast in execution.\n",
    "\n",
    "Numpy arrays are called as **ndarray**\n",
    "\n",
    "Numpy has 50x speed as compared to python list\n",
    "\n",
    "Numpy provides lots of functions which can be performed on large data\n",
    "\n",
    "Numpy gives faster response as compared to list as it **stores numpy arrays at one continuous location**\n",
    "\n",
    "Numpy codes are available at: https://github.com/numpy/numpy"
   ]
  },
  {
   "cell_type": "code",
   "execution_count": null,
   "id": "33f3c1d9",
   "metadata": {},
   "outputs": [],
   "source": []
  }
 ],
 "metadata": {
  "kernelspec": {
   "display_name": "Python 3 (ipykernel)",
   "language": "python",
   "name": "python3"
  },
  "language_info": {
   "codemirror_mode": {
    "name": "ipython",
    "version": 3
   },
   "file_extension": ".py",
   "mimetype": "text/x-python",
   "name": "python",
   "nbconvert_exporter": "python",
   "pygments_lexer": "ipython3",
   "version": "3.11.3"
  }
 },
 "nbformat": 4,
 "nbformat_minor": 5
}
