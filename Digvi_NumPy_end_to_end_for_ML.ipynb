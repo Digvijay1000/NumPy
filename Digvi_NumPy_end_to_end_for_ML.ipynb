{
 "cells": [
  {
   "cell_type": "markdown",
   "id": "bc43ad86",
   "metadata": {},
   "source": [
    "## Numerical Python End to End in Detail\n",
    "\n",
    "### Numpy:\n",
    "\n",
    "Numpy- is a **Numerical Python**\n",
    "\n",
    "It is developed by **Travis Oliphant in 2005**\n",
    "\n",
    "Numpy has functions to work on linear algebra, fourier transform, and matrices\n",
    "\n",
    "Its basically used to work with array, It can work with multidimentional Arrays\n",
    "\n",
    "\n",
    "### Why:\n",
    "\n",
    "Numpy is built using **python,** and most of the part which requires fatser execution is **developed using c or c++**,So it is very fast in execution.\n",
    "\n",
    "Numpy arrays are called as **ndarray**\n",
    "\n",
    "Numpy has 50x speed as compared to python list\n",
    "\n",
    "Numpy provides lots of functions which can be performed on large data\n",
    "\n",
    "Numpy gives faster response as compared to list as it **stores numpy arrays at one continuous location**\n",
    "\n",
    "Numpy codes are available at: https://github.com/numpy/numpy"
   ]
  },
  {
   "cell_type": "markdown",
   "id": "88513465",
   "metadata": {},
   "source": [
    "### Installation of Numpy"
   ]
  },
  {
   "cell_type": "raw",
   "id": "221e0eaf",
   "metadata": {},
   "source": [
    "# Got to terminal/jupyter notebook (!)\n",
    "\n",
    "# ! pip install numpy\n",
    "# ! pip install --upgrade pip\n",
    "\n",
    "you can use other tools like spyder or anaconda which comes with its installation"
   ]
  },
  {
   "cell_type": "code",
   "execution_count": 10,
   "id": "654d0378",
   "metadata": {},
   "outputs": [],
   "source": [
    "import numpy as np"
   ]
  },
  {
   "cell_type": "code",
   "execution_count": 12,
   "id": "fe526be2",
   "metadata": {},
   "outputs": [
    {
     "name": "stdout",
     "output_type": "stream",
     "text": [
      "Numpy Version is: 1.24.2\n"
     ]
    }
   ],
   "source": [
    "print(\"Numpy Version is:\",np.__version__)"
   ]
  },
  {
   "cell_type": "code",
   "execution_count": 13,
   "id": "cc88e6d9",
   "metadata": {},
   "outputs": [
    {
     "name": "stdout",
     "output_type": "stream",
     "text": [
      "[1 2 3 4 5 6 7 8 9]\n",
      "<class 'numpy.ndarray'>\n",
      "****************************************************************************************************\n",
      "[10 20 30 40]\n",
      "<class 'numpy.ndarray'>\n"
     ]
    }
   ],
   "source": [
    "# Create a numpy array using list\n",
    "\n",
    "arr=np.array([1,2,3,4,5,6,7,8,9])\n",
    "print(arr)\n",
    "print(type(arr))\n",
    "\n",
    "print('*'*100)\n",
    "\n",
    "lst = [10,20,30,40]\n",
    "ar = np.array(lst)\n",
    "print(ar)\n",
    "print(type(ar))"
   ]
  },
  {
   "cell_type": "code",
   "execution_count": 14,
   "id": "d385e85b",
   "metadata": {},
   "outputs": [
    {
     "name": "stdout",
     "output_type": "stream",
     "text": [
      "[1 2 3 4 5 6 7 8 9]\n",
      "Number of dimensions: 1\n"
     ]
    }
   ],
   "source": [
    "# How to access the element\n",
    "# its 1-D array\n",
    "arr = np.array([1,2,3,4,5,6,7,8,9])\n",
    "print(arr)\n",
    "\n",
    "# lets check the dimentions of the array\n",
    "\n",
    "print('Number of dimensions:',arr.ndim)\n"
   ]
  },
  {
   "cell_type": "raw",
   "id": "9ccac6eb",
   "metadata": {},
   "source": [
    "ndarray:\n",
    "        The array object in numpy is called ndarray"
   ]
  },
  {
   "cell_type": "code",
   "execution_count": 15,
   "id": "081d8ee1",
   "metadata": {},
   "outputs": [
    {
     "name": "stdout",
     "output_type": "stream",
     "text": [
      "[1 2 3 4 5 6]\n",
      "<class 'numpy.ndarray'>\n"
     ]
    }
   ],
   "source": [
    "# 2. Create numpy array using tuple\n",
    "\n",
    "tup=(1,2,3,4,5,6)\n",
    "ar = np.array(tup)\n",
    "print(ar)\n",
    "print(type(ar))"
   ]
  },
  {
   "cell_type": "code",
   "execution_count": 18,
   "id": "ec26dfdc",
   "metadata": {},
   "outputs": [],
   "source": [
    "# Different Dimentional Arrays:"
   ]
  },
  {
   "cell_type": "code",
   "execution_count": 17,
   "id": "03d029ae",
   "metadata": {},
   "outputs": [
    {
     "name": "stdout",
     "output_type": "stream",
     "text": [
      "9\n",
      "<class 'numpy.ndarray'>\n",
      "Dimensons of array: 0\n"
     ]
    }
   ],
   "source": [
    "# 1. 0-D array\n",
    "\n",
    "arr=np.array(9)\n",
    "print(arr)\n",
    "print(type(arr))\n",
    "print(\"Dimensons of array:\",arr.ndim)"
   ]
  },
  {
   "cell_type": "code",
   "execution_count": 21,
   "id": "e11f3573",
   "metadata": {},
   "outputs": [
    {
     "name": "stdout",
     "output_type": "stream",
     "text": [
      "[ 1  2  3  4 45]\n",
      "<class 'numpy.ndarray'>\n",
      "Dimensons of array: 1\n",
      "Element present at 4h index: 45\n"
     ]
    }
   ],
   "source": [
    "# 2. 1-D array\n",
    "\n",
    "arr=np.array([1,2,3,4,45])\n",
    "print(arr)\n",
    "print(type(arr))\n",
    "print(\"Dimensons of array:\",arr.ndim)\n",
    "\n",
    "# Access elemnts an 1-D array\n",
    "print('Element present at 4h index:',arr[4])"
   ]
  },
  {
   "cell_type": "code",
   "execution_count": 25,
   "id": "41972558",
   "metadata": {},
   "outputs": [
    {
     "name": "stdout",
     "output_type": "stream",
     "text": [
      "[[1 2 3]\n",
      " [4 5 6]]\n",
      "<class 'numpy.ndarray'>\n",
      "Dimensons of array: 2\n",
      "Element present at 1st index in axis 0: 2\n"
     ]
    }
   ],
   "source": [
    "# 3. 2-D array\n",
    "# Array having 1-D array as input element are called as 2-D array\n",
    "\n",
    "arr=np.array([[1,2,3],[4,5,6]])\n",
    "print(arr)\n",
    "print(type(arr))\n",
    "print(\"Dimensons of array:\",arr.ndim)\n",
    "\n",
    "# Access elemnts an 2-D array\n",
    "print('Element present at 1st index in axis 0:',arr[0,1]) # arr[0][1]"
   ]
  },
  {
   "cell_type": "code",
   "execution_count": 26,
   "id": "1a3ae0cf",
   "metadata": {},
   "outputs": [
    {
     "name": "stdout",
     "output_type": "stream",
     "text": [
      "[[1 2 3 4]\n",
      " [4 5 6 7]\n",
      " [4 5 6 7]\n",
      " [4 5 6 7]]\n",
      "Dimensions:  2\n"
     ]
    }
   ],
   "source": [
    "ar = [[1,2,3,4],[4,5,6,7],[4,5,6,7],[4,5,6,7]]\n",
    "arr = np.array(ar)\n",
    "print(arr)\n",
    "print(\"Dimensions: \",arr.ndim)"
   ]
  },
  {
   "cell_type": "code",
   "execution_count": 28,
   "id": "18699171",
   "metadata": {},
   "outputs": [
    {
     "name": "stdout",
     "output_type": "stream",
     "text": [
      "[[1 2 3 4]\n",
      " [4 5 6 7]\n",
      " [4 5 6 7]\n",
      " [4 5 6 7]]\n",
      "Dimensions:  2\n",
      "****************************************************************************************************\n",
      "arr[0][3] : 4\n",
      "arr[0] : [1 2 3 4]\n",
      "arr[0][2] : 3\n",
      "arr[1] : [4 5 6 7]\n",
      "arr[3,1] : 5\n"
     ]
    }
   ],
   "source": [
    "# Access the elements of 2-D array\n",
    "\n",
    "print(arr)\n",
    "# dimensions\n",
    "print(\"Dimensions: \",arr.ndim)\n",
    "print('*'*100)\n",
    "\n",
    "#one way is to write\n",
    "print('arr[0][3] :',arr[0][3])\n",
    "print('arr[0] :',arr[0])\n",
    "print('arr[0][2] :',arr[0][2])\n",
    "\n",
    "# another way is like\n",
    "print('arr[1] :',arr[1])\n",
    "print('arr[3,1] :',arr[3][1])"
   ]
  },
  {
   "cell_type": "code",
   "execution_count": 30,
   "id": "dec837f8",
   "metadata": {},
   "outputs": [
    {
     "name": "stdout",
     "output_type": "stream",
     "text": [
      "[[[1, 2, 3], [4, 5, 6]], [[10, 20, 30], [40, 50, 60]]]\n",
      "<class 'list'>\n",
      "****************************************************************************************************\n",
      "[[[ 1  2  3]\n",
      "  [ 4  5  6]]\n",
      "\n",
      " [[10 20 30]\n",
      "  [40 50 60]]]\n",
      "<class 'numpy.ndarray'>\n",
      "****************************************************************************************************\n",
      "Dimension of array : 3\n"
     ]
    }
   ],
   "source": [
    "# 4. 3-D Array\n",
    "# array that has 2-D arrays (matrices) as its elemets is called 3D array\n",
    "\n",
    "ar = [[[1,2,3], [4,5,6]], [[10,20,30], [40,50,60]]]\n",
    "print(ar)\n",
    "print(type(ar))\n",
    "print('*'*100)\n",
    "\n",
    "arr=np.array(ar)\n",
    "print(arr)\n",
    "print(type(arr))\n",
    "print('*'*100)\n",
    "\n",
    "print('Dimension of array :',arr.ndim)"
   ]
  },
  {
   "cell_type": "code",
   "execution_count": 33,
   "id": "349b946f",
   "metadata": {},
   "outputs": [
    {
     "name": "stdout",
     "output_type": "stream",
     "text": [
      "[[[ 1  2  3]\n",
      "  [ 4  5  6]]\n",
      "\n",
      " [[10 20 30]\n",
      "  [40 50 60]]]\n",
      "<class 'numpy.ndarray'>\n",
      "****************************************************************************************************\n",
      "One way is:\n",
      "arr[1] : [[10 20 30]\n",
      " [40 50 60]]\n",
      "arr[0][0] : [1 2 3]\n",
      "arr[0][0][2] : 3\n",
      "****************************************************************************************************\n",
      "Another way is:\n",
      "arr[1] : [[10 20 30]\n",
      " [40 50 60]]\n",
      "arr[0,0] : [1 2 3]\n",
      "arr[0,0,2] : 3\n"
     ]
    }
   ],
   "source": [
    "# access the elements of the 3-D array\n",
    "\n",
    "print(arr)\n",
    "print(type(arr))\n",
    "print('*'*100)\n",
    "\n",
    "# One way is \n",
    "print('One way is:')\n",
    "print('arr[1] :',arr[1])\n",
    "print('arr[0][0] :',arr[0][0])\n",
    "print('arr[0][0][2] :',arr[0][0][2])\n",
    "\n",
    "print('*'*100)\n",
    "\n",
    "# Another way\n",
    "print('Another way is:')\n",
    "print('arr[1] :',arr[1])\n",
    "print('arr[0,0] :',arr[0,0])\n",
    "print('arr[0,0,2] :',arr[0,0,2])"
   ]
  },
  {
   "cell_type": "markdown",
   "id": "da5436e4",
   "metadata": {},
   "source": [
    "###### # create an n dimensional array"
   ]
  },
  {
   "cell_type": "code",
   "execution_count": 36,
   "id": "10c52fe0",
   "metadata": {},
   "outputs": [
    {
     "name": "stdout",
     "output_type": "stream",
     "text": [
      "[[[[[1 2 3 4]]]]]\n",
      "number of dimensions : 5\n"
     ]
    }
   ],
   "source": [
    "# create an n dimensional array\n",
    "arr = np.array([1, 2, 3, 4], ndmin=5)\n",
    "\n",
    "print(arr)\n",
    "print('number of dimensions :', arr.ndim) "
   ]
  },
  {
   "cell_type": "markdown",
   "id": "8e17dfb8",
   "metadata": {},
   "source": [
    "### Array Slicing"
   ]
  },
  {
   "cell_type": "code",
   "execution_count": 38,
   "id": "e6cda68b",
   "metadata": {},
   "outputs": [
    {
     "name": "stdout",
     "output_type": "stream",
     "text": [
      "1\n",
      "2\n",
      "3\n",
      "4\n"
     ]
    }
   ],
   "source": [
    "print(arr[0][0][0][0][0])\n",
    "print(arr[0][0][0][0][1])\n",
    "print(arr[0][0][0][0][2])\n",
    "print(arr[0][0][0][0][3])"
   ]
  },
  {
   "cell_type": "code",
   "execution_count": 39,
   "id": "a32db476",
   "metadata": {},
   "outputs": [
    {
     "name": "stdout",
     "output_type": "stream",
     "text": [
      "[1 2 3 4 5 6 7 8 9]\n",
      "Length:  9\n",
      "[6 7 8 9]\n"
     ]
    }
   ],
   "source": [
    "arr = np.array([1,2,3,4,5,6,7,8,9])\n",
    "print(arr)\n",
    "\n",
    "# Slice\n",
    "print(\"Length: \",len(arr))\n",
    "print(arr[5:9])\n",
    "\n",
    "# [start:end], start included, end excluded"
   ]
  },
  {
   "cell_type": "code",
   "execution_count": 40,
   "id": "1151f509",
   "metadata": {},
   "outputs": [
    {
     "name": "stdout",
     "output_type": "stream",
     "text": [
      "[1 2 3 4 5]\n"
     ]
    }
   ],
   "source": [
    "print(arr[0:5])"
   ]
  },
  {
   "cell_type": "markdown",
   "id": "209dd7aa",
   "metadata": {},
   "source": [
    "###### Negative Indices\n",
    "\n",
    "    Negative indices always start from last element of n-d \n",
    "    array i.e. -1st index is last element of ndarray."
   ]
  },
  {
   "cell_type": "code",
   "execution_count": 41,
   "id": "2097678b",
   "metadata": {},
   "outputs": [
    {
     "name": "stdout",
     "output_type": "stream",
     "text": [
      "[1 2 3 4 5 6 7 8 9]\n"
     ]
    }
   ],
   "source": [
    "print(arr)"
   ]
  },
  {
   "cell_type": "markdown",
   "id": "fd57e82c",
   "metadata": {},
   "source": [
    "[-9,-8,-7,-6,-5,-4,-3,-2,-1]"
   ]
  },
  {
   "cell_type": "code",
   "execution_count": 43,
   "id": "76e690a3",
   "metadata": {},
   "outputs": [
    {
     "name": "stdout",
     "output_type": "stream",
     "text": [
      "9\n",
      "5\n",
      "1\n"
     ]
    }
   ],
   "source": [
    "print(arr[-1])\n",
    "print(arr[-5])\n",
    "print(arr[-9])"
   ]
  },
  {
   "cell_type": "code",
   "execution_count": 47,
   "id": "3a84dd84",
   "metadata": {},
   "outputs": [
    {
     "name": "stdout",
     "output_type": "stream",
     "text": [
      "[1 2 3 4]\n"
     ]
    }
   ],
   "source": [
    "print(arr[-9:-5])"
   ]
  },
  {
   "cell_type": "code",
   "execution_count": 48,
   "id": "5ba6ef58",
   "metadata": {},
   "outputs": [
    {
     "name": "stdout",
     "output_type": "stream",
     "text": [
      "[1 2 3 4 5 6 7 8 9]\n",
      "[1 3 5 7 9]\n"
     ]
    }
   ],
   "source": [
    "# Step value in slicing a Numpy array\n",
    "# here step is 2\n",
    "print(arr)\n",
    "print(arr[0:9:2])"
   ]
  },
  {
   "cell_type": "code",
   "execution_count": 49,
   "id": "3f49246d",
   "metadata": {},
   "outputs": [
    {
     "name": "stdout",
     "output_type": "stream",
     "text": [
      "[1 3 5 7 9]\n",
      "[1 3 5]\n"
     ]
    }
   ],
   "source": [
    "print(arr[::2])  # ::2 >> 0 to 9 index by step index 2\n",
    "\n",
    "print(arr[0:6:2]) # 0:6:2 >> 0 to 6 index by step value 2"
   ]
  },
  {
   "cell_type": "markdown",
   "id": "012163dd",
   "metadata": {},
   "source": [
    "###### Slicing of 2D Array"
   ]
  },
  {
   "cell_type": "code",
   "execution_count": 57,
   "id": "b51e43ce",
   "metadata": {},
   "outputs": [
    {
     "name": "stdout",
     "output_type": "stream",
     "text": [
      "[[ 1  2  3  4  5]\n",
      " [ 6  7  8  9 10]]\n",
      "\n",
      "\n",
      "8\n",
      "[7 8 9]\n",
      "[2 3 4]\n"
     ]
    }
   ],
   "source": [
    "arr = np.array([[1,2,3,4,5], [6,7,8,9,10]])\n",
    "\n",
    "print(arr)\n",
    "print('\\n')\n",
    "print(arr[1,2])\n",
    "\n",
    "print(arr[1,1:4]) # arr\n",
    "\n",
    "print(arr[0,1:4])"
   ]
  },
  {
   "cell_type": "code",
   "execution_count": 59,
   "id": "491d58af",
   "metadata": {},
   "outputs": [
    {
     "name": "stdout",
     "output_type": "stream",
     "text": [
      "[[ 1  2  3  4  5]\n",
      " [ 6  7  8  9 10]]\n"
     ]
    }
   ],
   "source": [
    "print(arr)"
   ]
  },
  {
   "cell_type": "code",
   "execution_count": 60,
   "id": "1071da62",
   "metadata": {},
   "outputs": [
    {
     "name": "stdout",
     "output_type": "stream",
     "text": [
      "[[1 2 3]]\n"
     ]
    }
   ],
   "source": [
    "print(arr[0:1,0:3]) # arr[location index from to,element index from to ]"
   ]
  },
  {
   "cell_type": "code",
   "execution_count": 61,
   "id": "9fc7e3f0",
   "metadata": {},
   "outputs": [
    {
     "name": "stdout",
     "output_type": "stream",
     "text": [
      "[[1 2 3]\n",
      " [6 7 8]]\n"
     ]
    }
   ],
   "source": [
    "print(arr[0:2,0:3]) # arr[location index from to, element index from to ]"
   ]
  },
  {
   "cell_type": "code",
   "execution_count": 62,
   "id": "7424d0a8",
   "metadata": {},
   "outputs": [
    {
     "name": "stdout",
     "output_type": "stream",
     "text": [
      "[3 8]\n"
     ]
    }
   ],
   "source": [
    "print(arr[0:2,2]) "
   ]
  },
  {
   "cell_type": "code",
   "execution_count": 63,
   "id": "2a301004",
   "metadata": {},
   "outputs": [
    {
     "name": "stdout",
     "output_type": "stream",
     "text": [
      "[[ 1  2  3  4  5]\n",
      " [10 20 30 40 50]\n",
      " [11 22 33 44 55]]\n",
      "15 (3, 5)\n"
     ]
    }
   ],
   "source": [
    "arr = np.array([[1,2,3,4,5],[10,20,30,40,50],[11,22,33,44,55]])\n",
    "print(arr)\n",
    "print(arr.size, arr.shape)"
   ]
  },
  {
   "cell_type": "code",
   "execution_count": 67,
   "id": "67a07a26",
   "metadata": {},
   "outputs": [
    {
     "name": "stdout",
     "output_type": "stream",
     "text": [
      "[[ 2  3]\n",
      " [20 30]]\n",
      "\n",
      "\n",
      "[[20 30 40]\n",
      " [22 33 44]]\n"
     ]
    }
   ],
   "source": [
    "# 2, 3\n",
    "# 20,30\n",
    "\n",
    "print(arr[0:2,1:3]) \n",
    "\n",
    "print('\\n')\n",
    "\n",
    "# 20 30 40\n",
    "# 22 33 44\n",
    "print(arr[1:3,1:4])"
   ]
  },
  {
   "cell_type": "markdown",
   "id": "910c07b2",
   "metadata": {},
   "source": [
    "#### Slicing of 3D Array"
   ]
  },
  {
   "cell_type": "code",
   "execution_count": 69,
   "id": "bb8780f5",
   "metadata": {},
   "outputs": [
    {
     "name": "stdout",
     "output_type": "stream",
     "text": [
      "[[[ 1  2  3]\n",
      "  [ 5  6  7]]\n",
      "\n",
      " [[11 22 33]\n",
      "  [55 66 77]]]\n",
      "3\n"
     ]
    }
   ],
   "source": [
    "arr=np.array([[[1,2,3],[5,6,7]],[[11,22,33],[55,66,77]]])\n",
    "print(arr)\n",
    "print(arr.ndim)"
   ]
  },
  {
   "cell_type": "code",
   "execution_count": 77,
   "id": "33f6652f",
   "metadata": {},
   "outputs": [
    {
     "data": {
      "text/plain": [
       "array([6, 7])"
      ]
     },
     "execution_count": 77,
     "metadata": {},
     "output_type": "execute_result"
    }
   ],
   "source": [
    "arr[0][1][1:3]"
   ]
  },
  {
   "cell_type": "code",
   "execution_count": 78,
   "id": "fbd300ab",
   "metadata": {},
   "outputs": [
    {
     "data": {
      "text/plain": [
       "array([66, 77])"
      ]
     },
     "execution_count": 78,
     "metadata": {},
     "output_type": "execute_result"
    }
   ],
   "source": [
    "arr[1][1][1:3]"
   ]
  },
  {
   "cell_type": "code",
   "execution_count": null,
   "id": "e5b8a5aa",
   "metadata": {},
   "outputs": [],
   "source": []
  }
 ],
 "metadata": {
  "kernelspec": {
   "display_name": "Python 3 (ipykernel)",
   "language": "python",
   "name": "python3"
  },
  "language_info": {
   "codemirror_mode": {
    "name": "ipython",
    "version": 3
   },
   "file_extension": ".py",
   "mimetype": "text/x-python",
   "name": "python",
   "nbconvert_exporter": "python",
   "pygments_lexer": "ipython3",
   "version": "3.11.3"
  }
 },
 "nbformat": 4,
 "nbformat_minor": 5
}
